{
 "cells": [
  {
   "cell_type": "markdown",
   "id": "ae8f0a83",
   "metadata": {},
   "source": [
    "# [GN-8]Hugging Face Custom Project"
   ]
  },
  {
   "cell_type": "markdown",
   "id": "444a4fa1",
   "metadata": {},
   "source": [
    "이번 프로젝트는 😊 Huggingface의 Pretrained 모델을 가져와서 Custom Dataset을 이용해 Finetuning을 진행하는 프로젝트이다.   \n",
    "데이터셋은 Naver Review (nsmc)데이타셋이다.\n",
    "\n",
    "### 데이타 훈련 전략   \n",
    "#### 1) 1만 데이타    \n",
    "Train DataSet이 10만개나 데이타라서 한번 (3 epoch) 훈련하는데도 7~10시간이 걸렸다. \n",
    "이대로 성능 튜닝을 위한 하이퍼 파라미터 조정을 수행 할 수 없어서  1/10 사이즈인 1만개 데이타로 줄여서 파라미터를 조정하고\n",
    "가장 좋은 성능을 보이는 훈련전략을 도출했다. \n",
    "\n",
    "#### 2) 10만 데이타    \n",
    "좋은 성능이 나오리라 기대하는 훈련전략으로 전체 데이타를 훈련했다. \n",
    "역시 시간이 많이 걸렸다. "
   ]
  },
  {
   "cell_type": "markdown",
   "id": "ad94ff7f",
   "metadata": {},
   "source": [
    "### 라이브러리 확인"
   ]
  },
  {
   "cell_type": "code",
   "execution_count": 5,
   "id": "649592a4",
   "metadata": {},
   "outputs": [
    {
     "name": "stdout",
     "output_type": "stream",
     "text": [
      "2.6.0\n",
      "1.21.4\n",
      "4.11.3\n",
      "1.14.0\n"
     ]
    }
   ],
   "source": [
    "import tensorflow\n",
    "import numpy\n",
    "import transformers\n",
    "import datasets\n",
    "\n",
    "print(tensorflow.__version__)\n",
    "print(numpy.__version__)\n",
    "print(transformers.__version__)\n",
    "print(datasets.__version__)"
   ]
  },
  {
   "cell_type": "markdown",
   "id": "67e2bf9b",
   "metadata": {},
   "source": [
    "## STEP 1. NSMC 데이터 분석 및 Huggingface dataset 구성"
   ]
  },
  {
   "cell_type": "code",
   "execution_count": 6,
   "id": "025ca646",
   "metadata": {},
   "outputs": [],
   "source": [
    "import datasets\n",
    "from datasets import load_dataset"
   ]
  },
  {
   "cell_type": "code",
   "execution_count": 7,
   "id": "aed933a8",
   "metadata": {},
   "outputs": [
    {
     "data": {
      "application/vnd.jupyter.widget-view+json": {
       "model_id": "3771fc73ab544446892744b8eb93dbfc",
       "version_major": 2,
       "version_minor": 0
      },
      "text/plain": [
       "Downloading:   0%|          | 0.00/1.36k [00:00<?, ?B/s]"
      ]
     },
     "metadata": {},
     "output_type": "display_data"
    },
    {
     "data": {
      "application/vnd.jupyter.widget-view+json": {
       "model_id": "76dbde4e858a41ce93da33aee28a8ca1",
       "version_major": 2,
       "version_minor": 0
      },
      "text/plain": [
       "Downloading:   0%|          | 0.00/807 [00:00<?, ?B/s]"
      ]
     },
     "metadata": {},
     "output_type": "display_data"
    },
    {
     "name": "stderr",
     "output_type": "stream",
     "text": [
      "Using custom data configuration default\n"
     ]
    },
    {
     "name": "stdout",
     "output_type": "stream",
     "text": [
      "Downloading and preparing dataset nsmc/default (download: 18.62 MiB, generated: 20.90 MiB, post-processed: Unknown size, total: 39.52 MiB) to /aiffel/.cache/huggingface/datasets/nsmc/default/1.1.0/bfd4729bf1a67114e5267e6916b9e4807010aeb238e4a3c2b95fbfa3a014b5f3...\n"
     ]
    },
    {
     "data": {
      "application/vnd.jupyter.widget-view+json": {
       "model_id": "03889aceae3f47c3bb8b37a8d840da8a",
       "version_major": 2,
       "version_minor": 0
      },
      "text/plain": [
       "  0%|          | 0/2 [00:00<?, ?it/s]"
      ]
     },
     "metadata": {},
     "output_type": "display_data"
    },
    {
     "data": {
      "application/vnd.jupyter.widget-view+json": {
       "model_id": "7924d7ec300f4dbe9248463d3e22f771",
       "version_major": 2,
       "version_minor": 0
      },
      "text/plain": [
       "Downloading:   0%|          | 0.00/6.33M [00:00<?, ?B/s]"
      ]
     },
     "metadata": {},
     "output_type": "display_data"
    },
    {
     "data": {
      "application/vnd.jupyter.widget-view+json": {
       "model_id": "97337d15552a405d89f1f10728042990",
       "version_major": 2,
       "version_minor": 0
      },
      "text/plain": [
       "Downloading:   0%|          | 0.00/2.12M [00:00<?, ?B/s]"
      ]
     },
     "metadata": {},
     "output_type": "display_data"
    },
    {
     "data": {
      "application/vnd.jupyter.widget-view+json": {
       "model_id": "972f9a247424426f91b7cf6bc857b312",
       "version_major": 2,
       "version_minor": 0
      },
      "text/plain": [
       "  0%|          | 0/2 [00:00<?, ?it/s]"
      ]
     },
     "metadata": {},
     "output_type": "display_data"
    },
    {
     "data": {
      "application/vnd.jupyter.widget-view+json": {
       "model_id": "",
       "version_major": 2,
       "version_minor": 0
      },
      "text/plain": [
       "0 examples [00:00, ? examples/s]"
      ]
     },
     "metadata": {},
     "output_type": "display_data"
    },
    {
     "data": {
      "application/vnd.jupyter.widget-view+json": {
       "model_id": "",
       "version_major": 2,
       "version_minor": 0
      },
      "text/plain": [
       "0 examples [00:00, ? examples/s]"
      ]
     },
     "metadata": {},
     "output_type": "display_data"
    },
    {
     "name": "stdout",
     "output_type": "stream",
     "text": [
      "Dataset nsmc downloaded and prepared to /aiffel/.cache/huggingface/datasets/nsmc/default/1.1.0/bfd4729bf1a67114e5267e6916b9e4807010aeb238e4a3c2b95fbfa3a014b5f3. Subsequent calls will reuse this data.\n"
     ]
    },
    {
     "name": "stderr",
     "output_type": "stream",
     "text": [
      "Using custom data configuration default\n",
      "Reusing dataset nsmc (/aiffel/.cache/huggingface/datasets/nsmc/default/1.1.0/bfd4729bf1a67114e5267e6916b9e4807010aeb238e4a3c2b95fbfa3a014b5f3)\n",
      "Using custom data configuration default\n",
      "Reusing dataset nsmc (/aiffel/.cache/huggingface/datasets/nsmc/default/1.1.0/bfd4729bf1a67114e5267e6916b9e4807010aeb238e4a3c2b95fbfa3a014b5f3)\n"
     ]
    }
   ],
   "source": [
    "val_ds = datasets.load_dataset('nsmc', split='train[:50000]')\n",
    "train_ds = datasets.load_dataset('nsmc', split='train[50000:]')\n",
    "test_ds = datasets.load_dataset('nsmc', split='test[:50000]')"
   ]
  },
  {
   "cell_type": "markdown",
   "id": "e64fd340",
   "metadata": {},
   "source": [
    "🧐 Train, Val, Test set의 데이타를 분리해 주었다. 한번 load해서 나누는 방법이 있을 텐데, 찾지 못해 load dataset의 split을 써서 3번 썼다."
   ]
  },
  {
   "cell_type": "code",
   "execution_count": 8,
   "id": "e6e50462",
   "metadata": {},
   "outputs": [
    {
     "data": {
      "text/plain": [
       "Dataset({\n",
       "    features: ['id', 'document', 'label'],\n",
       "    num_rows: 100000\n",
       "})"
      ]
     },
     "execution_count": 8,
     "metadata": {},
     "output_type": "execute_result"
    }
   ],
   "source": [
    "train_ds"
   ]
  },
  {
   "cell_type": "code",
   "execution_count": 9,
   "id": "90592304",
   "metadata": {
    "scrolled": true
   },
   "outputs": [
    {
     "data": {
      "text/plain": [
       "Dataset({\n",
       "    features: ['id', 'document', 'label'],\n",
       "    num_rows: 50000\n",
       "})"
      ]
     },
     "execution_count": 9,
     "metadata": {},
     "output_type": "execute_result"
    }
   ],
   "source": [
    "val_ds"
   ]
  },
  {
   "cell_type": "code",
   "execution_count": 10,
   "id": "b74d668c",
   "metadata": {},
   "outputs": [
    {
     "data": {
      "text/plain": [
       "Dataset({\n",
       "    features: ['id', 'document', 'label'],\n",
       "    num_rows: 50000\n",
       "})"
      ]
     },
     "execution_count": 10,
     "metadata": {},
     "output_type": "execute_result"
    }
   ],
   "source": [
    "test_ds"
   ]
  },
  {
   "cell_type": "markdown",
   "id": "088b8531",
   "metadata": {},
   "source": [
    "🧐 Train: 10만개 Val: 5만개 Test: 5만건 "
   ]
  },
  {
   "cell_type": "code",
   "execution_count": 11,
   "id": "6a04a186",
   "metadata": {
    "scrolled": false
   },
   "outputs": [
    {
     "name": "stdout",
     "output_type": "stream",
     "text": [
      "id : 8867980\n",
      "document : 재미가 없으면 길게만들지도 마... 샬리즈테론 내내버럭하고 틴에이저퀸 스튜어트는 앞니만보이고 몰입감도 없고 토르는 내내 지저분해서 정도 안가는데 김보성느낌나고 애매한 캐릭터 윌리엄에 무의미한 전투씬들.. 억지로 끼워넣은 난장이들. 대체 뭘위해서?\n",
      "label : 0\n",
      "\n",
      "\n",
      "id : 7129770\n",
      "document : 굿굿 아라의 마지막 뒷모습이 너무 기억에 나네요 사람은 백프로 드러난 잘못에만 진짜로 미안해해 ㅠㅠ\n",
      "label : 1\n",
      "\n",
      "\n",
      "id : 6310338\n",
      "document : 스케일 대박... 1,2보다 훨씬 크네요 헬기씬이 아찔해서 10점\n",
      "label : 1\n",
      "\n",
      "\n",
      "id : 2745807\n",
      "document : 소설이원작인가?이런소설은생각하면서 의미를부여하지만..영상으론 최악임...\n",
      "label : 0\n",
      "\n",
      "\n",
      "id : 5325844\n",
      "document : 이영화가 유명한 감독의 영화라니 믿어지지 않네요\n",
      "label : 0\n",
      "\n",
      "\n"
     ]
    }
   ],
   "source": [
    "cols = train_ds.column_names\n",
    "for i in range(5):\n",
    "    for col in cols:\n",
    "        print(col, \":\", train_ds[col][i])\n",
    "    print('\\n')"
   ]
  },
  {
   "cell_type": "markdown",
   "id": "a05ba8c7",
   "metadata": {},
   "source": [
    "- label 0 : 부정적 리뷰 \n",
    "- label 1: 긍정적 리뷰"
   ]
  },
  {
   "cell_type": "markdown",
   "id": "83f132e8",
   "metadata": {},
   "source": [
    "## STEP 2. klue/bert-base model 및 tokenizer 불러오기"
   ]
  },
  {
   "cell_type": "code",
   "execution_count": 12,
   "id": "3740f6cd",
   "metadata": {},
   "outputs": [
    {
     "data": {
      "application/vnd.jupyter.widget-view+json": {
       "model_id": "8316f810c38d49a7b8e136641323777e",
       "version_major": 2,
       "version_minor": 0
      },
      "text/plain": [
       "Downloading:   0%|          | 0.00/545 [00:00<?, ?B/s]"
      ]
     },
     "metadata": {},
     "output_type": "display_data"
    },
    {
     "data": {
      "application/vnd.jupyter.widget-view+json": {
       "model_id": "af13ee796c69411bba01ac2f8504e70d",
       "version_major": 2,
       "version_minor": 0
      },
      "text/plain": [
       "Downloading:   0%|          | 0.00/260M [00:00<?, ?B/s]"
      ]
     },
     "metadata": {},
     "output_type": "display_data"
    },
    {
     "name": "stderr",
     "output_type": "stream",
     "text": [
      "Some weights of the model checkpoint at klue/roberta-small were not used when initializing RobertaForSequenceClassification: ['lm_head.layer_norm.weight', 'lm_head.layer_norm.bias', 'lm_head.dense.bias', 'lm_head.dense.weight', 'lm_head.bias', 'lm_head.decoder.weight', 'lm_head.decoder.bias']\n",
      "- This IS expected if you are initializing RobertaForSequenceClassification from the checkpoint of a model trained on another task or with another architecture (e.g. initializing a BertForSequenceClassification model from a BertForPreTraining model).\n",
      "- This IS NOT expected if you are initializing RobertaForSequenceClassification from the checkpoint of a model that you expect to be exactly identical (initializing a BertForSequenceClassification model from a BertForSequenceClassification model).\n",
      "Some weights of RobertaForSequenceClassification were not initialized from the model checkpoint at klue/roberta-small and are newly initialized: ['classifier.out_proj.weight', 'classifier.dense.weight', 'classifier.out_proj.bias', 'classifier.dense.bias']\n",
      "You should probably TRAIN this model on a down-stream task to be able to use it for predictions and inference.\n"
     ]
    },
    {
     "data": {
      "application/vnd.jupyter.widget-view+json": {
       "model_id": "506d656fb4dc45599cf31b5e22a555ad",
       "version_major": 2,
       "version_minor": 0
      },
      "text/plain": [
       "Downloading:   0%|          | 0.00/375 [00:00<?, ?B/s]"
      ]
     },
     "metadata": {},
     "output_type": "display_data"
    },
    {
     "data": {
      "application/vnd.jupyter.widget-view+json": {
       "model_id": "404c5e7d25bb47e3b458c810307945a0",
       "version_major": 2,
       "version_minor": 0
      },
      "text/plain": [
       "Downloading:   0%|          | 0.00/243k [00:00<?, ?B/s]"
      ]
     },
     "metadata": {},
     "output_type": "display_data"
    },
    {
     "data": {
      "application/vnd.jupyter.widget-view+json": {
       "model_id": "1ae101462e3449e1b3948dfb8927a060",
       "version_major": 2,
       "version_minor": 0
      },
      "text/plain": [
       "Downloading:   0%|          | 0.00/734k [00:00<?, ?B/s]"
      ]
     },
     "metadata": {},
     "output_type": "display_data"
    },
    {
     "data": {
      "application/vnd.jupyter.widget-view+json": {
       "model_id": "9c550bd6d6f044ef8122b02103d69c1c",
       "version_major": 2,
       "version_minor": 0
      },
      "text/plain": [
       "Downloading:   0%|          | 0.00/173 [00:00<?, ?B/s]"
      ]
     },
     "metadata": {},
     "output_type": "display_data"
    }
   ],
   "source": [
    "from transformers import AutoModel, AutoTokenizer, AutoModelForSequenceClassification\n",
    "\n",
    "#model = AutoModel.from_pretrained(\"klue/bert-base\")      \n",
    "#tokenizer = AutoTokenizer.from_pretrained(\"klue/bert-base\")\n",
    "\n",
    "model = AutoModelForSequenceClassification.from_pretrained(\"klue/roberta-small\")\n",
    "tokenizer = AutoTokenizer.from_pretrained(\"klue/roberta-small\")"
   ]
  },
  {
   "cell_type": "markdown",
   "id": "dcaea9ff",
   "metadata": {},
   "source": [
    "🧐 처음 시도는 klue/bert-base(156k)으로 model과 tokenizer선택했는데, 훈련시간이 너무 오래걸려서 11시간 예상.\n",
    "파라미터가 작은 klue/roberta-small(2.53k)로 시도했다. 훈련시간은 7시간 내외로 예상치가 좀 줄었다."
   ]
  },
  {
   "cell_type": "markdown",
   "id": "2445acd0",
   "metadata": {},
   "source": [
    "## STEP 3. 위에서 불러온 tokenizer으로 데이터셋을 전처리하고, model 학습 진행해 보기"
   ]
  },
  {
   "cell_type": "code",
   "execution_count": 13,
   "id": "0398c8c0",
   "metadata": {},
   "outputs": [
    {
     "name": "stdout",
     "output_type": "stream",
     "text": [
      "{'input_ids': [0, 4697, 2116, 1415, 6076, 647, 2318, 2154, 2031, 13807, 1036, 18, 18, 18, 1252, 2059, 2228, 2201, 2570, 6404, 2264, 2823, 19521, 1821, 11264, 2190, 3416, 25932, 2259, 1388, 2209, 2154, 16555, 2088, 11306, 2434, 2119, 1415, 2088, 24321, 2259, 6404, 18234, 6396, 3681, 1378, 2116, 13964, 17264, 2047, 2922, 3040, 2075, 2088, 11548, 2470, 5690, 10954, 2170, 20514, 2470, 5635, 2410, 2031, 18, 18, 11057, 13646, 3475, 2073, 21075, 2052, 2031, 18, 4761, 1099, 2090, 6396, 35, 2, 1, 1, 1, 1, 1, 1, 1, 1, 1, 1, 1, 1, 1, 1, 1, 1, 1, 1, 1, 1, 1, 1, 1, 1, 1, 1, 1, 1, 1, 1, 1, 1, 1, 1, 1, 1, 1, 1, 1, 1, 1, 1, 1, 1, 1, 1, 1, 1, 1, 1, 1, 1, 1, 1, 1, 1, 1, 1, 1, 1, 1, 1, 1, 1, 1, 1, 1, 1, 1, 1, 1, 1, 1, 1, 1, 1, 1, 1, 1, 1, 1, 1, 1, 1, 1, 1, 1, 1, 1, 1, 1, 1, 1, 1, 1, 1, 1, 1, 1, 1, 1, 1, 1, 1, 1, 1, 1, 1, 1, 1, 1, 1, 1, 1, 1, 1, 1, 1, 1, 1, 1, 1, 1, 1, 1, 1, 1, 1, 1, 1, 1, 1, 1, 1, 1, 1, 1, 1, 1, 1, 1, 1, 1, 1, 1, 1, 1, 1, 1, 1, 1, 1, 1, 1, 1, 1, 1, 1, 1, 1, 1, 1, 1, 1, 1, 1, 1, 1, 1, 1, 1, 1, 1, 1, 1, 1, 1, 1, 1, 1, 1, 1, 1, 1, 1, 1, 1, 1, 1, 1, 1, 1, 1, 1, 1, 1, 1, 1, 1, 1, 1, 1, 1, 1, 1, 1, 1, 1, 1, 1, 1, 1, 1, 1, 1, 1, 1, 1, 1, 1, 1, 1, 1, 1, 1, 1, 1, 1, 1, 1, 1, 1, 1, 1, 1, 1, 1, 1, 1, 1, 1, 1, 1, 1, 1, 1, 1, 1, 1, 1, 1, 1, 1, 1, 1, 1, 1, 1, 1, 1, 1, 1, 1, 1, 1, 1, 1, 1, 1, 1, 1, 1, 1, 1, 1, 1, 1, 1, 1, 1, 1, 1, 1, 1, 1, 1, 1, 1, 1, 1, 1, 1, 1, 1, 1, 1, 1, 1, 1, 1, 1, 1, 1, 1, 1, 1, 1, 1, 1, 1, 1, 1, 1, 1, 1, 1, 1, 1, 1, 1, 1, 1, 1, 1, 1, 1, 1, 1, 1, 1, 1, 1, 1, 1, 1, 1, 1, 1, 1, 1, 1, 1, 1, 1, 1, 1, 1, 1, 1, 1, 1, 1, 1, 1, 1, 1, 1, 1, 1, 1, 1, 1, 1, 1, 1, 1, 1, 1, 1, 1, 1, 1, 1, 1, 1, 1, 1, 1, 1, 1, 1, 1, 1, 1, 1, 1, 1, 1, 1, 1, 1, 1, 1, 1, 1, 1, 1, 1, 1, 1, 1, 1, 1, 1, 1, 1, 1, 1, 1, 1, 1, 1, 1, 1, 1, 1, 1, 1, 1, 1, 1, 1, 1, 1, 1, 1, 1, 1, 1, 1, 1, 1], 'token_type_ids': [0, 0, 0, 0, 0, 0, 0, 0, 0, 0, 0, 0, 0, 0, 0, 0, 0, 0, 0, 0, 0, 0, 0, 0, 0, 0, 0, 0, 0, 0, 0, 0, 0, 0, 0, 0, 0, 0, 0, 0, 0, 0, 0, 0, 0, 0, 0, 0, 0, 0, 0, 0, 0, 0, 0, 0, 0, 0, 0, 0, 0, 0, 0, 0, 0, 0, 0, 0, 0, 0, 0, 0, 0, 0, 0, 0, 0, 0, 0, 0, 0, 0, 0, 0, 0, 0, 0, 0, 0, 0, 0, 0, 0, 0, 0, 0, 0, 0, 0, 0, 0, 0, 0, 0, 0, 0, 0, 0, 0, 0, 0, 0, 0, 0, 0, 0, 0, 0, 0, 0, 0, 0, 0, 0, 0, 0, 0, 0, 0, 0, 0, 0, 0, 0, 0, 0, 0, 0, 0, 0, 0, 0, 0, 0, 0, 0, 0, 0, 0, 0, 0, 0, 0, 0, 0, 0, 0, 0, 0, 0, 0, 0, 0, 0, 0, 0, 0, 0, 0, 0, 0, 0, 0, 0, 0, 0, 0, 0, 0, 0, 0, 0, 0, 0, 0, 0, 0, 0, 0, 0, 0, 0, 0, 0, 0, 0, 0, 0, 0, 0, 0, 0, 0, 0, 0, 0, 0, 0, 0, 0, 0, 0, 0, 0, 0, 0, 0, 0, 0, 0, 0, 0, 0, 0, 0, 0, 0, 0, 0, 0, 0, 0, 0, 0, 0, 0, 0, 0, 0, 0, 0, 0, 0, 0, 0, 0, 0, 0, 0, 0, 0, 0, 0, 0, 0, 0, 0, 0, 0, 0, 0, 0, 0, 0, 0, 0, 0, 0, 0, 0, 0, 0, 0, 0, 0, 0, 0, 0, 0, 0, 0, 0, 0, 0, 0, 0, 0, 0, 0, 0, 0, 0, 0, 0, 0, 0, 0, 0, 0, 0, 0, 0, 0, 0, 0, 0, 0, 0, 0, 0, 0, 0, 0, 0, 0, 0, 0, 0, 0, 0, 0, 0, 0, 0, 0, 0, 0, 0, 0, 0, 0, 0, 0, 0, 0, 0, 0, 0, 0, 0, 0, 0, 0, 0, 0, 0, 0, 0, 0, 0, 0, 0, 0, 0, 0, 0, 0, 0, 0, 0, 0, 0, 0, 0, 0, 0, 0, 0, 0, 0, 0, 0, 0, 0, 0, 0, 0, 0, 0, 0, 0, 0, 0, 0, 0, 0, 0, 0, 0, 0, 0, 0, 0, 0, 0, 0, 0, 0, 0, 0, 0, 0, 0, 0, 0, 0, 0, 0, 0, 0, 0, 0, 0, 0, 0, 0, 0, 0, 0, 0, 0, 0, 0, 0, 0, 0, 0, 0, 0, 0, 0, 0, 0, 0, 0, 0, 0, 0, 0, 0, 0, 0, 0, 0, 0, 0, 0, 0, 0, 0, 0, 0, 0, 0, 0, 0, 0, 0, 0, 0, 0, 0, 0, 0, 0, 0, 0, 0, 0, 0, 0, 0, 0, 0, 0, 0, 0, 0, 0, 0, 0, 0, 0, 0, 0, 0, 0, 0, 0, 0, 0, 0, 0, 0, 0, 0, 0, 0, 0, 0, 0, 0, 0, 0, 0, 0, 0, 0, 0, 0, 0, 0], 'attention_mask': [1, 1, 1, 1, 1, 1, 1, 1, 1, 1, 1, 1, 1, 1, 1, 1, 1, 1, 1, 1, 1, 1, 1, 1, 1, 1, 1, 1, 1, 1, 1, 1, 1, 1, 1, 1, 1, 1, 1, 1, 1, 1, 1, 1, 1, 1, 1, 1, 1, 1, 1, 1, 1, 1, 1, 1, 1, 1, 1, 1, 1, 1, 1, 1, 1, 1, 1, 1, 1, 1, 1, 1, 1, 1, 1, 1, 1, 1, 1, 1, 0, 0, 0, 0, 0, 0, 0, 0, 0, 0, 0, 0, 0, 0, 0, 0, 0, 0, 0, 0, 0, 0, 0, 0, 0, 0, 0, 0, 0, 0, 0, 0, 0, 0, 0, 0, 0, 0, 0, 0, 0, 0, 0, 0, 0, 0, 0, 0, 0, 0, 0, 0, 0, 0, 0, 0, 0, 0, 0, 0, 0, 0, 0, 0, 0, 0, 0, 0, 0, 0, 0, 0, 0, 0, 0, 0, 0, 0, 0, 0, 0, 0, 0, 0, 0, 0, 0, 0, 0, 0, 0, 0, 0, 0, 0, 0, 0, 0, 0, 0, 0, 0, 0, 0, 0, 0, 0, 0, 0, 0, 0, 0, 0, 0, 0, 0, 0, 0, 0, 0, 0, 0, 0, 0, 0, 0, 0, 0, 0, 0, 0, 0, 0, 0, 0, 0, 0, 0, 0, 0, 0, 0, 0, 0, 0, 0, 0, 0, 0, 0, 0, 0, 0, 0, 0, 0, 0, 0, 0, 0, 0, 0, 0, 0, 0, 0, 0, 0, 0, 0, 0, 0, 0, 0, 0, 0, 0, 0, 0, 0, 0, 0, 0, 0, 0, 0, 0, 0, 0, 0, 0, 0, 0, 0, 0, 0, 0, 0, 0, 0, 0, 0, 0, 0, 0, 0, 0, 0, 0, 0, 0, 0, 0, 0, 0, 0, 0, 0, 0, 0, 0, 0, 0, 0, 0, 0, 0, 0, 0, 0, 0, 0, 0, 0, 0, 0, 0, 0, 0, 0, 0, 0, 0, 0, 0, 0, 0, 0, 0, 0, 0, 0, 0, 0, 0, 0, 0, 0, 0, 0, 0, 0, 0, 0, 0, 0, 0, 0, 0, 0, 0, 0, 0, 0, 0, 0, 0, 0, 0, 0, 0, 0, 0, 0, 0, 0, 0, 0, 0, 0, 0, 0, 0, 0, 0, 0, 0, 0, 0, 0, 0, 0, 0, 0, 0, 0, 0, 0, 0, 0, 0, 0, 0, 0, 0, 0, 0, 0, 0, 0, 0, 0, 0, 0, 0, 0, 0, 0, 0, 0, 0, 0, 0, 0, 0, 0, 0, 0, 0, 0, 0, 0, 0, 0, 0, 0, 0, 0, 0, 0, 0, 0, 0, 0, 0, 0, 0, 0, 0, 0, 0, 0, 0, 0, 0, 0, 0, 0, 0, 0, 0, 0, 0, 0, 0, 0, 0, 0, 0, 0, 0, 0, 0, 0, 0, 0, 0, 0, 0, 0, 0, 0, 0, 0, 0, 0, 0, 0, 0, 0, 0, 0, 0, 0, 0, 0, 0, 0, 0, 0, 0, 0, 0, 0, 0, 0, 0, 0, 0, 0, 0, 0, 0, 0, 0, 0, 0, 0, 0, 0, 0, 0]}\n"
     ]
    }
   ],
   "source": [
    "def transform(data):\n",
    "    return tokenizer(\n",
    "        data['document'],\n",
    "        truncation = True,\n",
    "        padding = 'max_length',\n",
    "        return_token_type_ids = True,\n",
    "        )\n",
    "\n",
    "for i in range(1):\n",
    "    t = transform(train_ds[i])\n",
    "    print(t)"
   ]
  },
  {
   "cell_type": "code",
   "execution_count": 14,
   "id": "50de10ae",
   "metadata": {},
   "outputs": [
    {
     "data": {
      "application/vnd.jupyter.widget-view+json": {
       "model_id": "a677943a96d9476e9d927a6fbaab700c",
       "version_major": 2,
       "version_minor": 0
      },
      "text/plain": [
       "  0%|          | 0/100 [00:00<?, ?ba/s]"
      ]
     },
     "metadata": {},
     "output_type": "display_data"
    },
    {
     "data": {
      "application/vnd.jupyter.widget-view+json": {
       "model_id": "09a4a46264b44943a64361a539fff272",
       "version_major": 2,
       "version_minor": 0
      },
      "text/plain": [
       "  0%|          | 0/50 [00:00<?, ?ba/s]"
      ]
     },
     "metadata": {},
     "output_type": "display_data"
    },
    {
     "data": {
      "application/vnd.jupyter.widget-view+json": {
       "model_id": "885cc376f3924b1386b0db4a2d46668d",
       "version_major": 2,
       "version_minor": 0
      },
      "text/plain": [
       "  0%|          | 0/50 [00:00<?, ?ba/s]"
      ]
     },
     "metadata": {},
     "output_type": "display_data"
    }
   ],
   "source": [
    "hf_train_dataset = train_ds.map(transform, batched=True)\n",
    "hf_val_dataset = val_ds.map(transform, batched=True)\n",
    "hf_test_dataset = test_ds.map(transform, batched=True)\n",
    "\n"
   ]
  },
  {
   "cell_type": "code",
   "execution_count": 15,
   "id": "62012717",
   "metadata": {},
   "outputs": [
    {
     "name": "stdout",
     "output_type": "stream",
     "text": [
      "huggingface/tokenizers: The current process just got forked, after parallelism has already been used. Disabling parallelism to avoid deadlocks...\n",
      "To disable this warning, you can either:\n",
      "\t- Avoid using `tokenizers` before the fork if possible\n",
      "\t- Explicitly set the environment variable TOKENIZERS_PARALLELISM=(true | false)\n",
      "huggingface/tokenizers: The current process just got forked, after parallelism has already been used. Disabling parallelism to avoid deadlocks...\n",
      "To disable this warning, you can either:\n",
      "\t- Avoid using `tokenizers` before the fork if possible\n",
      "\t- Explicitly set the environment variable TOKENIZERS_PARALLELISM=(true | false)\n"
     ]
    }
   ],
   "source": [
    "import os\n",
    "import numpy as np\n",
    "from transformers import Trainer, TrainingArguments, DataCollatorWithPadding\n",
    "import pandas as pd\n",
    "import matplotlib.pyplot as plt\n",
    "from transformers import EarlyStoppingCallback, TrainerCallback\n",
    "output_dir = './transformers'\n"
   ]
  },
  {
   "cell_type": "code",
   "execution_count": 16,
   "id": "3be02a53",
   "metadata": {},
   "outputs": [
    {
     "data": {
      "application/vnd.jupyter.widget-view+json": {
       "model_id": "6941231be4974595b5b67bed01ab48b8",
       "version_major": 2,
       "version_minor": 0
      },
      "text/plain": [
       "Downloading:   0%|          | 0.00/1.42k [00:00<?, ?B/s]"
      ]
     },
     "metadata": {},
     "output_type": "display_data"
    },
    {
     "data": {
      "application/vnd.jupyter.widget-view+json": {
       "model_id": "abe72fc4c74e47e4a5bc7be9dd828ffb",
       "version_major": 2,
       "version_minor": 0
      },
      "text/plain": [
       "Downloading:   0%|          | 0.00/2.07k [00:00<?, ?B/s]"
      ]
     },
     "metadata": {},
     "output_type": "display_data"
    }
   ],
   "source": [
    "from datasets import load_metric\n",
    "# KLUE 데이터셋에 대한 메트릭 로드\n",
    "m_acc= load_metric('accuracy')\n",
    "m_f1 = load_metric('f1')\n",
    "\n",
    "def compute_metrics(pred):  \n",
    "\n",
    "\n",
    "    labels = pred.label_ids\n",
    "    preds = pred.predictions.argmax(-1)\n",
    "    \n",
    "    acc = m_acc.compute(predictions= preds, references=labels)['accuracy']\n",
    "    f1 = m_f1.compute(predictions= preds, references=labels)['f1']\n",
    "    return {\n",
    "        'accuracy': acc,\n",
    "        'f1': f1\n",
    "    }\n"
   ]
  },
  {
   "cell_type": "markdown",
   "id": "a2b1f624",
   "metadata": {},
   "source": [
    "### 3-1 Train - Base"
   ]
  },
  {
   "cell_type": "code",
   "execution_count": 13,
   "id": "0724e9a4",
   "metadata": {},
   "outputs": [],
   "source": [
    "# 하이퍼 파라미터 base\n",
    "training_arguments = TrainingArguments(\n",
    "    output_dir,                                         # output이 저장될 경로\n",
    "    evaluation_strategy=\"steps\",           #evaluation하는 빈도\n",
    "    eval_steps = 250,\n",
    "    learning_rate = 2e-5,                         #learning_rate\n",
    "    per_device_train_batch_size = 8,   # 각 device 당 batch size\n",
    "    per_device_eval_batch_size = 8,    # evaluation 시에 batch size\n",
    "    num_train_epochs = 3,                     # train 시킬 총 epochs\n",
    "    weight_decay = 0.01,                        # weight decay\n",
    "    load_best_model_at_end = True,\n",
    "    metric_for_best_model = 'accuracy',\n",
    "    logging_steps=250\n",
    ")\n",
    "\n",
    "# DataCollatorWithPadding을 사용하여 bucketing 수행\n",
    "data_collator = DataCollatorWithPadding(tokenizer=tokenizer)    \n",
    "\n",
    "# 학습 실행\n",
    "early_stopping_callback = EarlyStoppingCallback(early_stopping_patience=2)\n",
    "\n",
    "trainer = Trainer(\n",
    "    model=model,\n",
    "    args=training_arguments,\n",
    "    train_dataset=hf_train_dataset,\n",
    "    eval_dataset=hf_val_dataset,\n",
    "    #data_collator=data_collator,\n",
    "    compute_metrics=compute_metrics,\n",
    "#    callbacks=[early_stopping_callback]\n",
    ")\n",
    "\n",
    "#trainer.train()       \n",
    "#history_base = pd.DataFrame(trainer.state.log_history)"
   ]
  },
  {
   "cell_type": "code",
   "execution_count": 14,
   "id": "ec9470e7",
   "metadata": {},
   "outputs": [],
   "source": [
    "#history_base.to_csv('history_base.csv')"
   ]
  },
  {
   "cell_type": "markdown",
   "id": "1e24753e",
   "metadata": {},
   "source": [
    "🧐 기본 Base 모델을 위와 같이 잡았다. "
   ]
  },
  {
   "cell_type": "markdown",
   "id": "de735839",
   "metadata": {},
   "source": [
    "## STEP 4. Fine-tuning을 통하여 모델 성능(accuarcy) 향상시키기"
   ]
  },
  {
   "cell_type": "markdown",
   "id": "c1455c6c",
   "metadata": {},
   "source": [
    "### 4-1  learning_rate (2e-5 -> 3e-5 ) 조정"
   ]
  },
  {
   "cell_type": "code",
   "execution_count": 15,
   "id": "09a6e599",
   "metadata": {
    "scrolled": false
   },
   "outputs": [
    {
     "name": "stderr",
     "output_type": "stream",
     "text": [
      "PyTorch: setting up devices\n",
      "The default value for the training argument `--report_to` will change in v5 (from all installed integrations to none). In v5, you will need to use `--report_to all` to get the same behavior as now. You should start updating your code and make this info disappear :-).\n"
     ]
    }
   ],
   "source": [
    "# 하이퍼파라미터 base   learning_rate = 3e-5, \n",
    "training_arguments = TrainingArguments(\n",
    "    output_dir,                                         # output이 저장될 경로\n",
    "    evaluation_strategy=\"steps\",           #evaluation하는 빈도\n",
    "    eval_steps = 250,\n",
    "    learning_rate = 3e-5,                         #learning_rate\n",
    "    per_device_train_batch_size = 8,   # 각 device 당 batch size\n",
    "    per_device_eval_batch_size = 8,    # evaluation 시에 batch size\n",
    "    num_train_epochs = 3,                     # train 시킬 총 epochs\n",
    "    weight_decay = 0.01,                        # weight decay\n",
    "    load_best_model_at_end = True,\n",
    "    metric_for_best_model = 'accuracy',\n",
    "    logging_steps=250\n",
    ")\n",
    "\n",
    "# DataCollatorWithPadding을 사용하여 bucketing 수행\n",
    "data_collator = DataCollatorWithPadding(tokenizer=tokenizer)    \n",
    "\n",
    "# 학습 실행\n",
    "early_stopping_callback = EarlyStoppingCallback(early_stopping_patience=2)\n",
    "\n",
    "trainer = Trainer(\n",
    "    model=model,\n",
    "    args=training_arguments,\n",
    "    train_dataset=hf_train_dataset,\n",
    "    eval_dataset=hf_val_dataset,\n",
    "    #data_collator=data_collator,\n",
    "    compute_metrics=compute_metrics,\n",
    "#    callbacks=[early_stopping_callback]\n",
    ")\n",
    "\n",
    "# trainer.train()        \n",
    "# history_lr3 = pd.DataFrame(trainer.state.log_history)"
   ]
  },
  {
   "cell_type": "code",
   "execution_count": 16,
   "id": "7e124f95",
   "metadata": {},
   "outputs": [],
   "source": [
    "#history_lr3.to_csv('history_lr3.csv')"
   ]
  },
  {
   "cell_type": "markdown",
   "id": "3983967a",
   "metadata": {},
   "source": [
    "### 4-2 weight_decay 조정(0.01 -> 0.02)"
   ]
  },
  {
   "cell_type": "code",
   "execution_count": 17,
   "id": "2d63c0ad",
   "metadata": {},
   "outputs": [
    {
     "name": "stderr",
     "output_type": "stream",
     "text": [
      "PyTorch: setting up devices\n",
      "The default value for the training argument `--report_to` will change in v5 (from all installed integrations to none). In v5, you will need to use `--report_to all` to get the same behavior as now. You should start updating your code and make this info disappear :-).\n"
     ]
    }
   ],
   "source": [
    "# 하이퍼파라미터 base   weight_decay = 0.02,   \n",
    "training_arguments = TrainingArguments(\n",
    "    output_dir,                                         # output이 저장될 경로\n",
    "    evaluation_strategy=\"steps\",           #evaluation하는 빈도\n",
    "    eval_steps = 250,\n",
    "    learning_rate = 2e-5,                         #learning_rate\n",
    "    per_device_train_batch_size = 8,   # 각 device 당 batch size\n",
    "    per_device_eval_batch_size = 8,    # evaluation 시에 batch size\n",
    "    num_train_epochs = 3,                     # train 시킬 총 epochs\n",
    "    weight_decay = 0.02,                        # weight decay\n",
    "    load_best_model_at_end = True,\n",
    "    metric_for_best_model = 'accuracy',\n",
    "    logging_steps=250\n",
    ")\n",
    "\n",
    "# DataCollatorWithPadding을 사용하여 bucketing 수행\n",
    "data_collator = DataCollatorWithPadding(tokenizer=tokenizer)    \n",
    "\n",
    "# 학습 실행\n",
    "early_stopping_callback = EarlyStoppingCallback(early_stopping_patience=2)\n",
    "\n",
    "trainer = Trainer(\n",
    "    model=model,\n",
    "    args=training_arguments,\n",
    "    train_dataset=hf_train_dataset,\n",
    "    eval_dataset=hf_val_dataset,\n",
    "    #data_collator=data_collator,\n",
    "    compute_metrics=compute_metrics,\n",
    "#    callbacks=[early_stopping_callback]\n",
    ")\n",
    "\n",
    "# trainer.train()        \n",
    "# history_wd = pd.DataFrame(trainer.state.log_history)"
   ]
  },
  {
   "cell_type": "markdown",
   "id": "4a3a8bfa",
   "metadata": {
    "scrolled": false
   },
   "source": [
    "🧐 Hugging Face에서의 weight_decay는 가중치 감쇠(weight decay)의 역할을 수행하는 하이퍼파라미터입니다. 가중치 감쇠는 모델의 가중치를 조정하여 오버피팅(overfitting)을 방지하고 일반화 성능을 향상시키는 정규화(regularization) 기법 중 하나입니다.\n",
    "\n",
    "가중치 감쇠는 모델의 손실 함수에 정의된 가중치의 크기에 대한 페널티를 추가하여 모델이 작은 가중치 값을 가지도록 유도합니다. 이를 통해 모델의 복잡성을 제한하고, 훈련 데이터에 과적합되지 않도록 합니다. 가중치 감쇠는 L2 규제(L2 regularization)와 밀접한 관련이 있으며, 오차 함수에 가중치의 제곱에 비례하는 페널티를 추가합니다.\n",
    "\n",
    "weight_decay 매개변수는 가중치 감쇠의 강도를 조정하는 역할을 합니다. 일반적으로 weight_decay 값이 크면 가중치가 더 작아지도록 강제화되어 모델의 복잡성이 줄어들게 됩니다. 반대로 weight_decay 값이 작으면 가중치에 대한 페널티가 작아지므로 모델은 더 큰 가중치 값을 가질 수 있습니다.\n",
    "\n",
    "ChatGPT의 내용을 참고로 weight_decay를 0.01에서 0.02로 조정했다. "
   ]
  },
  {
   "cell_type": "markdown",
   "id": "68796599",
   "metadata": {},
   "source": [
    "## STEP 5. Bucketing을 적용하여 학습시키고, STEP 4의 결과와의 비교"
   ]
  },
  {
   "cell_type": "markdown",
   "id": "2dd02f19",
   "metadata": {},
   "source": [
    "### 5-1 data_collator 적용"
   ]
  },
  {
   "cell_type": "markdown",
   "id": "06ac89e9",
   "metadata": {},
   "source": [
    "### Data Collator  사용시 장점\n",
    "| 장점          | 설명                                                                                                    |\n",
    "| ----------- | ----------------------------------------------------------------------------------------------------- |\n",
    "| 배치 처리 효율성   | 효율적인 배치 처리를 통해 GPU 또는 TPU와 같은 가속기 장치의 활용도를 최대화하여 학습 속도를 높입니다.                                         |\n",
    "| 동적 패딩       | 동적 패딩을 적용하여 메모리 사용량을 줄이고 연산 비용을 절감합니다. 모델이 패딩된 부분을 계산하지 않고 불필요한 연산을 수행하지 않아 학습 속도를 향상시키고 메모리를 최적화합니다. |\n",
    "| 일관된 입력 형식   | 일관된 입력 형식을 유지하여 데이터 전처리 및 모델 구성의 일관성을 유지하고 재사용성을 높입니다.                                                |\n",
    "| 추가적인 데이터 처리 | 필요에 따라 데이터를 추가적으로 처리하여 데이터 전처리 파이프라인을 유연하게 구성할 수 있습니다.                                                |\n",
    "| 확장성과 재사용성   | Hugging Face Transformers 라이브러리와 통합되어 있어 다양한 모델 및 태스크에 대해 사용할 수 있는 인터페이스를 제공합니다.                      |"
   ]
  },
  {
   "cell_type": "code",
   "execution_count": 18,
   "id": "ed190677",
   "metadata": {},
   "outputs": [
    {
     "name": "stderr",
     "output_type": "stream",
     "text": [
      "PyTorch: setting up devices\n",
      "The default value for the training argument `--report_to` will change in v5 (from all installed integrations to none). In v5, you will need to use `--report_to all` to get the same behavior as now. You should start updating your code and make this info disappear :-).\n"
     ]
    }
   ],
   "source": [
    "# 하이퍼파라미터 base   data_collator\n",
    "training_arguments = TrainingArguments(\n",
    "    output_dir,                                         # output이 저장될 경로\n",
    "    evaluation_strategy=\"steps\",           #evaluation하는 빈도\n",
    "    eval_steps = 250,\n",
    "    learning_rate = 2e-5,                         #learning_rate\n",
    "    per_device_train_batch_size = 8,   # 각 device 당 batch size\n",
    "    per_device_eval_batch_size = 8,    # evaluation 시에 batch size\n",
    "    num_train_epochs = 3,                     # train 시킬 총 epochs\n",
    "    weight_decay = 0.01,                        # weight decay\n",
    "    load_best_model_at_end = True,\n",
    "    metric_for_best_model = 'accuracy',\n",
    "    logging_steps=250\n",
    ")\n",
    "\n",
    "# DataCollatorWithPadding을 사용하여 bucketing 수행\n",
    "data_collator = DataCollatorWithPadding(tokenizer=tokenizer)    \n",
    "\n",
    "# 학습 실행\n",
    "early_stopping_callback = EarlyStoppingCallback(early_stopping_patience=2)\n",
    "\n",
    "trainer = Trainer(\n",
    "    model=model,\n",
    "    args=training_arguments,\n",
    "    train_dataset=hf_train_dataset,\n",
    "    eval_dataset=hf_val_dataset,\n",
    "    data_collator=data_collator,\n",
    "    compute_metrics=compute_metrics,\n",
    "#    callbacks=[early_stopping_callback]\n",
    ")\n",
    "\n",
    "# trainer.train()        \n",
    "# history_col = pd.DataFrame(trainer.state.log_history)"
   ]
  },
  {
   "cell_type": "code",
   "execution_count": 19,
   "id": "1d0d12ca",
   "metadata": {},
   "outputs": [],
   "source": [
    "# history_col.to_csv('history_col.csv')"
   ]
  },
  {
   "cell_type": "markdown",
   "id": "c75d7e7b",
   "metadata": {},
   "source": [
    "### 5-2 Data collator 와 weight decay 함께 적용"
   ]
  },
  {
   "cell_type": "code",
   "execution_count": null,
   "id": "28a4c9f5",
   "metadata": {},
   "outputs": [],
   "source": [
    "# 하이퍼파라미터 base   data_collator + wd\n",
    "training_arguments = TrainingArguments(\n",
    "    output_dir,                                         # output이 저장될 경로\n",
    "    evaluation_strategy=\"steps\",           #evaluation하는 빈도\n",
    "    eval_steps = 500,\n",
    "    learning_rate = 2e-5,                         #learning_rate\n",
    "    per_device_train_batch_size = 16,   # 각 device 당 batch size\n",
    "    per_device_eval_batch_size = 16,    # evaluation 시에 batch size\n",
    "    num_train_epochs = 3,                     # train 시킬 총 epochs\n",
    "    weight_decay = 0.02,                        # weight decay\n",
    "    load_best_model_at_end = True,\n",
    "    metric_for_best_model = 'accuracy',\n",
    "    logging_steps=500\n",
    ")\n",
    "\n",
    "# DataCollatorWithPadding을 사용하여 bucketing 수행\n",
    "data_collator = DataCollatorWithPadding(tokenizer=tokenizer)    \n",
    "\n",
    "# 학습 실행\n",
    "early_stopping_callback = EarlyStoppingCallback(early_stopping_patience=2)\n",
    "\n",
    "trainer = Trainer(\n",
    "    model=model,\n",
    "    args=training_arguments,\n",
    "    train_dataset=hf_train_dataset,\n",
    "    eval_dataset=hf_val_dataset,\n",
    "    data_collator=data_collator,\n",
    "    compute_metrics=compute_metrics,\n",
    "#    callbacks=[early_stopping_callback]\n",
    ")\n",
    "\n",
    "# trainer.train()        \n",
    "# history_colwb_total = pd.DataFrame(trainer.state.log_history)"
   ]
  },
  {
   "cell_type": "markdown",
   "id": "6f57596a",
   "metadata": {},
   "source": [
    "## STEP6. 성능 평가 비교(Train set 1만 건)"
   ]
  },
  {
   "cell_type": "markdown",
   "id": "c4320567",
   "metadata": {},
   "source": [
    "🧐 1/10 데이타를 기준으로 성능을 평가한 history데이타를 dataframe에 담아두었다.   \n",
    "그래프로 성능 비교를 해보았다. "
   ]
  },
  {
   "cell_type": "code",
   "execution_count": 23,
   "id": "1cb38dcd",
   "metadata": {},
   "outputs": [],
   "source": [
    "import pandas as pd"
   ]
  },
  {
   "cell_type": "code",
   "execution_count": 24,
   "id": "fbc8a3b0",
   "metadata": {
    "scrolled": true
   },
   "outputs": [
    {
     "name": "stdout",
     "output_type": "stream",
     "text": [
      "base\n",
      "lr3\n",
      "wd\n",
      "col\n",
      "colwd\n"
     ]
    }
   ],
   "source": [
    "filename_list = ['history_base.csv','history_lr3.csv','history_wd.csv','history_col.csv','history_colwd.csv']\n",
    "\n",
    "for filename in filename_list:\n",
    "    this_df = pd.read_csv(filename)\n",
    "\n",
    "    # 파일명에서 'base' 추출\n",
    "    start_index = filename.find('_')\n",
    "    end_index = filename.find('.')\n",
    "    this_name = filename[start_index+1:end_index]\n",
    "\n",
    "    # 데이터프레임 생성\n",
    "    globals()[this_name] = this_df.groupby('step').sum()[['loss', 'eval_loss', 'eval_accuracy', 'eval_f1']]\n",
    "    print(this_name)"
   ]
  },
  {
   "cell_type": "markdown",
   "id": "cd0b201e",
   "metadata": {},
   "source": [
    "### 6-1 Accuracy 비교"
   ]
  },
  {
   "cell_type": "code",
   "execution_count": 26,
   "id": "ac7386b0",
   "metadata": {},
   "outputs": [],
   "source": [
    "import seaborn as sns\n",
    "import matplotlib.pyplot as plt"
   ]
  },
  {
   "cell_type": "code",
   "execution_count": 27,
   "id": "afddbcf0",
   "metadata": {},
   "outputs": [
    {
     "data": {
      "image/png": "[encoded data removed]",
      "text/plain": [
       "<Figure size 864x576 with 1 Axes>"
      ]
     },
     "metadata": {
      "needs_background": "light"
     },
     "output_type": "display_data"
    }
   ],
   "source": [
    "dfs = [base, lr3, wd, col, colwd]\n",
    "accuracy_df = pd.concat([df['eval_accuracy'] for df in dfs], axis=1, keys=['base', 'lr3', 'wd', 'col', 'colwd'])\n",
    "\n",
    "plt.figure(figsize=(12, 8))\n",
    "\n",
    "ax = sns.lineplot(data=accuracy_df)\n",
    "plt.title('Accuracy')\n",
    "plt.show()"
   ]
  },
  {
   "cell_type": "code",
   "execution_count": 28,
   "id": "1f6e98e7",
   "metadata": {},
   "outputs": [
    {
     "data": {
      "text/html": [
       "<div>\n",
       "<style scoped>\n",
       "    .dataframe tbody tr th:only-of-type {\n",
       "        vertical-align: middle;\n",
       "    }\n",
       "\n",
       "    .dataframe tbody tr th {\n",
       "        vertical-align: top;\n",
       "    }\n",
       "\n",
       "    .dataframe thead th {\n",
       "        text-align: right;\n",
       "    }\n",
       "</style>\n",
       "<table border=\"1\" class=\"dataframe\">\n",
       "  <thead>\n",
       "    <tr style=\"text-align: right;\">\n",
       "      <th></th>\n",
       "      <th>base</th>\n",
       "      <th>lr3</th>\n",
       "      <th>wd</th>\n",
       "      <th>col</th>\n",
       "      <th>colwd</th>\n",
       "    </tr>\n",
       "    <tr>\n",
       "      <th>step</th>\n",
       "      <th></th>\n",
       "      <th></th>\n",
       "      <th></th>\n",
       "      <th></th>\n",
       "      <th></th>\n",
       "    </tr>\n",
       "  </thead>\n",
       "  <tbody>\n",
       "    <tr>\n",
       "      <th>250</th>\n",
       "      <td>0.8264</td>\n",
       "      <td>0.8238</td>\n",
       "      <td>0.8264</td>\n",
       "      <td>0.8372</td>\n",
       "      <td>0.8320</td>\n",
       "    </tr>\n",
       "    <tr>\n",
       "      <th>500</th>\n",
       "      <td>0.8464</td>\n",
       "      <td>0.8312</td>\n",
       "      <td>0.8452</td>\n",
       "      <td>0.8516</td>\n",
       "      <td>0.8500</td>\n",
       "    </tr>\n",
       "    <tr>\n",
       "      <th>750</th>\n",
       "      <td>0.8452</td>\n",
       "      <td>0.8472</td>\n",
       "      <td>0.8442</td>\n",
       "      <td>0.8504</td>\n",
       "      <td>0.8480</td>\n",
       "    </tr>\n",
       "    <tr>\n",
       "      <th>1000</th>\n",
       "      <td>0.8610</td>\n",
       "      <td>0.8574</td>\n",
       "      <td>0.8648</td>\n",
       "      <td>0.8662</td>\n",
       "      <td>0.8568</td>\n",
       "    </tr>\n",
       "    <tr>\n",
       "      <th>1250</th>\n",
       "      <td>0.8668</td>\n",
       "      <td>0.8634</td>\n",
       "      <td>0.8654</td>\n",
       "      <td>0.8708</td>\n",
       "      <td>0.8672</td>\n",
       "    </tr>\n",
       "    <tr>\n",
       "      <th>1500</th>\n",
       "      <td>0.8708</td>\n",
       "      <td>0.8662</td>\n",
       "      <td>0.8734</td>\n",
       "      <td>0.8696</td>\n",
       "      <td>0.8720</td>\n",
       "    </tr>\n",
       "    <tr>\n",
       "      <th>1750</th>\n",
       "      <td>0.8728</td>\n",
       "      <td>0.8622</td>\n",
       "      <td>0.8744</td>\n",
       "      <td>0.8700</td>\n",
       "      <td>0.8688</td>\n",
       "    </tr>\n",
       "    <tr>\n",
       "      <th>2000</th>\n",
       "      <td>0.8648</td>\n",
       "      <td>0.8660</td>\n",
       "      <td>0.8720</td>\n",
       "      <td>0.8698</td>\n",
       "      <td>0.8672</td>\n",
       "    </tr>\n",
       "    <tr>\n",
       "      <th>2250</th>\n",
       "      <td>0.8596</td>\n",
       "      <td>0.8706</td>\n",
       "      <td>0.8646</td>\n",
       "      <td>0.8696</td>\n",
       "      <td>0.8608</td>\n",
       "    </tr>\n",
       "    <tr>\n",
       "      <th>2500</th>\n",
       "      <td>0.8694</td>\n",
       "      <td>0.8676</td>\n",
       "      <td>0.8778</td>\n",
       "      <td>0.8720</td>\n",
       "      <td>0.8726</td>\n",
       "    </tr>\n",
       "    <tr>\n",
       "      <th>2750</th>\n",
       "      <td>0.8610</td>\n",
       "      <td>0.8608</td>\n",
       "      <td>0.8620</td>\n",
       "      <td>0.8580</td>\n",
       "      <td>0.8616</td>\n",
       "    </tr>\n",
       "    <tr>\n",
       "      <th>3000</th>\n",
       "      <td>0.8732</td>\n",
       "      <td>0.8696</td>\n",
       "      <td>0.8766</td>\n",
       "      <td>0.8740</td>\n",
       "      <td>0.8718</td>\n",
       "    </tr>\n",
       "    <tr>\n",
       "      <th>3250</th>\n",
       "      <td>0.8690</td>\n",
       "      <td>0.8700</td>\n",
       "      <td>0.8754</td>\n",
       "      <td>0.8688</td>\n",
       "      <td>0.8726</td>\n",
       "    </tr>\n",
       "    <tr>\n",
       "      <th>3500</th>\n",
       "      <td>0.8718</td>\n",
       "      <td>0.8702</td>\n",
       "      <td>0.8754</td>\n",
       "      <td>0.8746</td>\n",
       "      <td>0.8742</td>\n",
       "    </tr>\n",
       "    <tr>\n",
       "      <th>3750</th>\n",
       "      <td>0.8714</td>\n",
       "      <td>0.8698</td>\n",
       "      <td>0.8736</td>\n",
       "      <td>0.8736</td>\n",
       "      <td>0.8730</td>\n",
       "    </tr>\n",
       "  </tbody>\n",
       "</table>\n",
       "</div>"
      ],
      "text/plain": [
       "        base     lr3      wd     col   colwd\n",
       "step                                        \n",
       "250   0.8264  0.8238  0.8264  0.8372  0.8320\n",
       "500   0.8464  0.8312  0.8452  0.8516  0.8500\n",
       "750   0.8452  0.8472  0.8442  0.8504  0.8480\n",
       "1000  0.8610  0.8574  0.8648  0.8662  0.8568\n",
       "1250  0.8668  0.8634  0.8654  0.8708  0.8672\n",
       "1500  0.8708  0.8662  0.8734  0.8696  0.8720\n",
       "1750  0.8728  0.8622  0.8744  0.8700  0.8688\n",
       "2000  0.8648  0.8660  0.8720  0.8698  0.8672\n",
       "2250  0.8596  0.8706  0.8646  0.8696  0.8608\n",
       "2500  0.8694  0.8676  0.8778  0.8720  0.8726\n",
       "2750  0.8610  0.8608  0.8620  0.8580  0.8616\n",
       "3000  0.8732  0.8696  0.8766  0.8740  0.8718\n",
       "3250  0.8690  0.8700  0.8754  0.8688  0.8726\n",
       "3500  0.8718  0.8702  0.8754  0.8746  0.8742\n",
       "3750  0.8714  0.8698  0.8736  0.8736  0.8730"
      ]
     },
     "execution_count": 28,
     "metadata": {},
     "output_type": "execute_result"
    }
   ],
   "source": [
    "accuracy_df"
   ]
  },
  {
   "cell_type": "markdown",
   "id": "e5211f29",
   "metadata": {},
   "source": [
    "🧐 10만건의 1/10 데이타인 1만건을 train 데이타를 기준으로 성능 검증을 했을 때 Wd(weight dacay), col(data collator), colwd( data collader + weight decay) 적용한 경우가 거의 비슷한 선능을 보였다. \n",
    "데이타셋의 수가 적어서 90%의 Accuracy까지는 도달하지 못한 것으로 보인다. \n",
    "전체적인 경향성을 보았을 때 `colwd( data collader + weight decay)`가 본데이타를 돌렸을 때 가장 좋은 성능을 보일 것으로 기대된다"
   ]
  },
  {
   "cell_type": "markdown",
   "id": "442d01be",
   "metadata": {},
   "source": [
    "### 6-2 F-1 Score 비교"
   ]
  },
  {
   "cell_type": "code",
   "execution_count": 29,
   "id": "fc13f2e4",
   "metadata": {},
   "outputs": [
    {
     "data": {
      "image/png": "[encoded data removed]",
      "text/plain": [
       "<Figure size 864x576 with 1 Axes>"
      ]
     },
     "metadata": {
      "needs_background": "light"
     },
     "output_type": "display_data"
    }
   ],
   "source": [
    "dfs = [base, lr3, wd, col, colwd]\n",
    "f1_df = pd.concat([df['eval_f1'] for df in dfs], axis=1, keys=['base', 'lr3', 'wd', 'col', 'colwd'])\n",
    "\n",
    "plt.figure(figsize=(12, 8))\n",
    "\n",
    "ax = sns.lineplot(data=f1_df)\n",
    "plt.title('F1 - score')\n",
    "plt.show()\n"
   ]
  },
  {
   "cell_type": "code",
   "execution_count": null,
   "id": "8e920823",
   "metadata": {},
   "outputs": [],
   "source": [
    "🧐 F1-score의 경우도 Wd(weight dacay), col(data collator), colwd( data collader + weight decay) 3 지표가 모두 비슷한 추이를 보였다. \n",
    "추세가 좋았던 colwd를 모델로 채택하고 전체 데이타 훈련을 진행해 보았다. "
   ]
  },
  {
   "cell_type": "code",
   "execution_count": 30,
   "id": "6e282fcf",
   "metadata": {},
   "outputs": [
    {
     "data": {
      "text/html": [
       "<div>\n",
       "<style scoped>\n",
       "    .dataframe tbody tr th:only-of-type {\n",
       "        vertical-align: middle;\n",
       "    }\n",
       "\n",
       "    .dataframe tbody tr th {\n",
       "        vertical-align: top;\n",
       "    }\n",
       "\n",
       "    .dataframe thead th {\n",
       "        text-align: right;\n",
       "    }\n",
       "</style>\n",
       "<table border=\"1\" class=\"dataframe\">\n",
       "  <thead>\n",
       "    <tr style=\"text-align: right;\">\n",
       "      <th></th>\n",
       "      <th>base</th>\n",
       "      <th>lr3</th>\n",
       "      <th>wd</th>\n",
       "      <th>col</th>\n",
       "      <th>colwd</th>\n",
       "    </tr>\n",
       "    <tr>\n",
       "      <th>step</th>\n",
       "      <th></th>\n",
       "      <th></th>\n",
       "      <th></th>\n",
       "      <th></th>\n",
       "      <th></th>\n",
       "    </tr>\n",
       "  </thead>\n",
       "  <tbody>\n",
       "    <tr>\n",
       "      <th>250</th>\n",
       "      <td>0.835232</td>\n",
       "      <td>0.830152</td>\n",
       "      <td>0.806940</td>\n",
       "      <td>0.838171</td>\n",
       "      <td>0.838213</td>\n",
       "    </tr>\n",
       "    <tr>\n",
       "      <th>500</th>\n",
       "      <td>0.837906</td>\n",
       "      <td>0.828803</td>\n",
       "      <td>0.849064</td>\n",
       "      <td>0.845288</td>\n",
       "      <td>0.850359</td>\n",
       "    </tr>\n",
       "    <tr>\n",
       "      <th>750</th>\n",
       "      <td>0.853575</td>\n",
       "      <td>0.850606</td>\n",
       "      <td>0.851364</td>\n",
       "      <td>0.856595</td>\n",
       "      <td>0.855348</td>\n",
       "    </tr>\n",
       "    <tr>\n",
       "      <th>1000</th>\n",
       "      <td>0.852972</td>\n",
       "      <td>0.850993</td>\n",
       "      <td>0.858814</td>\n",
       "      <td>0.862204</td>\n",
       "      <td>0.846088</td>\n",
       "    </tr>\n",
       "    <tr>\n",
       "      <th>1250</th>\n",
       "      <td>0.865509</td>\n",
       "      <td>0.860241</td>\n",
       "      <td>0.862175</td>\n",
       "      <td>0.868592</td>\n",
       "      <td>0.867253</td>\n",
       "    </tr>\n",
       "    <tr>\n",
       "      <th>1500</th>\n",
       "      <td>0.873084</td>\n",
       "      <td>0.866866</td>\n",
       "      <td>0.872968</td>\n",
       "      <td>0.869391</td>\n",
       "      <td>0.873066</td>\n",
       "    </tr>\n",
       "    <tr>\n",
       "      <th>1750</th>\n",
       "      <td>0.869082</td>\n",
       "      <td>0.855948</td>\n",
       "      <td>0.871732</td>\n",
       "      <td>0.865647</td>\n",
       "      <td>0.862762</td>\n",
       "    </tr>\n",
       "    <tr>\n",
       "      <th>2000</th>\n",
       "      <td>0.868636</td>\n",
       "      <td>0.865137</td>\n",
       "      <td>0.871743</td>\n",
       "      <td>0.871471</td>\n",
       "      <td>0.870110</td>\n",
       "    </tr>\n",
       "    <tr>\n",
       "      <th>2250</th>\n",
       "      <td>0.850511</td>\n",
       "      <td>0.871193</td>\n",
       "      <td>0.856659</td>\n",
       "      <td>0.865954</td>\n",
       "      <td>0.855121</td>\n",
       "    </tr>\n",
       "    <tr>\n",
       "      <th>2500</th>\n",
       "      <td>0.867733</td>\n",
       "      <td>0.865502</td>\n",
       "      <td>0.874872</td>\n",
       "      <td>0.871949</td>\n",
       "      <td>0.871027</td>\n",
       "    </tr>\n",
       "    <tr>\n",
       "      <th>2750</th>\n",
       "      <td>0.866679</td>\n",
       "      <td>0.867580</td>\n",
       "      <td>0.867867</td>\n",
       "      <td>0.864400</td>\n",
       "      <td>0.866564</td>\n",
       "    </tr>\n",
       "    <tr>\n",
       "      <th>3000</th>\n",
       "      <td>0.873301</td>\n",
       "      <td>0.866667</td>\n",
       "      <td>0.875880</td>\n",
       "      <td>0.873899</td>\n",
       "      <td>0.870844</td>\n",
       "    </tr>\n",
       "    <tr>\n",
       "      <th>3250</th>\n",
       "      <td>0.872295</td>\n",
       "      <td>0.869530</td>\n",
       "      <td>0.876364</td>\n",
       "      <td>0.871775</td>\n",
       "      <td>0.874285</td>\n",
       "    </tr>\n",
       "    <tr>\n",
       "      <th>3500</th>\n",
       "      <td>0.870896</td>\n",
       "      <td>0.870018</td>\n",
       "      <td>0.874572</td>\n",
       "      <td>0.872845</td>\n",
       "      <td>0.873568</td>\n",
       "    </tr>\n",
       "    <tr>\n",
       "      <th>3750</th>\n",
       "      <td>0.872698</td>\n",
       "      <td>0.871268</td>\n",
       "      <td>0.874104</td>\n",
       "      <td>0.874204</td>\n",
       "      <td>0.874233</td>\n",
       "    </tr>\n",
       "  </tbody>\n",
       "</table>\n",
       "</div>"
      ],
      "text/plain": [
       "          base       lr3        wd       col     colwd\n",
       "step                                                  \n",
       "250   0.835232  0.830152  0.806940  0.838171  0.838213\n",
       "500   0.837906  0.828803  0.849064  0.845288  0.850359\n",
       "750   0.853575  0.850606  0.851364  0.856595  0.855348\n",
       "1000  0.852972  0.850993  0.858814  0.862204  0.846088\n",
       "1250  0.865509  0.860241  0.862175  0.868592  0.867253\n",
       "1500  0.873084  0.866866  0.872968  0.869391  0.873066\n",
       "1750  0.869082  0.855948  0.871732  0.865647  0.862762\n",
       "2000  0.868636  0.865137  0.871743  0.871471  0.870110\n",
       "2250  0.850511  0.871193  0.856659  0.865954  0.855121\n",
       "2500  0.867733  0.865502  0.874872  0.871949  0.871027\n",
       "2750  0.866679  0.867580  0.867867  0.864400  0.866564\n",
       "3000  0.873301  0.866667  0.875880  0.873899  0.870844\n",
       "3250  0.872295  0.869530  0.876364  0.871775  0.874285\n",
       "3500  0.870896  0.870018  0.874572  0.872845  0.873568\n",
       "3750  0.872698  0.871268  0.874104  0.874204  0.874233"
      ]
     },
     "execution_count": 30,
     "metadata": {},
     "output_type": "execute_result"
    }
   ],
   "source": [
    "f1_df"
   ]
  },
  {
   "cell_type": "markdown",
   "id": "45c12a54",
   "metadata": {},
   "source": [
    "🧐 Bucketing을 시도해 보았지만 reference가 부족해서 이걸 제대로 적용한 것인지 확인이 안된 상태에서 훈련을 시도했다. \n",
    "공식문서의 내용을 기반으로 작성했지만, 충분하게 숙지했는지 의문이다. \n",
    "전체적인 시간 차이도 그다지 확연한 차이를 느끼지 못했다. 성능과 시간과의 Trad-off 관계를 확인하고 싶었는데, 적용전이나 후나 일단 전체적인 선능은 크게 차이가 없어보인다. "
   ]
  },
  {
   "cell_type": "code",
   "execution_count": null,
   "id": "10d44ccc",
   "metadata": {},
   "outputs": [],
   "source": []
  },
  {
   "cell_type": "markdown",
   "id": "5e4f0591",
   "metadata": {},
   "source": [
    "## Step 7  10만건 데이타  colwd( data collader + weight decay) 성능 검증"
   ]
  },
  {
   "cell_type": "code",
   "execution_count": 20,
   "id": "738bc384",
   "metadata": {
    "scrolled": false
   },
   "outputs": [
    {
     "name": "stderr",
     "output_type": "stream",
     "text": [
      "PyTorch: setting up devices\n",
      "The default value for the training argument `--report_to` will change in v5 (from all installed integrations to none). In v5, you will need to use `--report_to all` to get the same behavior as now. You should start updating your code and make this info disappear :-).\n",
      "The following columns in the training set  don't have a corresponding argument in `RobertaForSequenceClassification.forward` and have been ignored: id, document.\n",
      "***** Running training *****\n",
      "  Num examples = 100000\n",
      "  Num Epochs = 3\n",
      "  Instantaneous batch size per device = 16\n",
      "  Total train batch size (w. parallel, distributed & accumulation) = 16\n",
      "  Gradient Accumulation steps = 1\n",
      "  Total optimization steps = 18750\n"
     ]
    },
    {
     "data": {
      "text/html": [
       "\n",
       "    <div>\n",
       "      \n",
       "      <progress value='18750' max='18750' style='width:300px; height:20px; vertical-align: middle;'></progress>\n",
       "      [18750/18750 12:01:19, Epoch 3/3]\n",
       "    </div>\n",
       "    <table border=\"1\" class=\"dataframe\">\n",
       "  <thead>\n",
       "    <tr style=\"text-align: left;\">\n",
       "      <th>Step</th>\n",
       "      <th>Training Loss</th>\n",
       "      <th>Validation Loss</th>\n",
       "      <th>Accuracy</th>\n",
       "      <th>F1</th>\n",
       "    </tr>\n",
       "  </thead>\n",
       "  <tbody>\n",
       "    <tr>\n",
       "      <td>500</td>\n",
       "      <td>0.416700</td>\n",
       "      <td>0.365836</td>\n",
       "      <td>0.851420</td>\n",
       "      <td>0.849752</td>\n",
       "    </tr>\n",
       "    <tr>\n",
       "      <td>1000</td>\n",
       "      <td>0.357300</td>\n",
       "      <td>0.343098</td>\n",
       "      <td>0.862200</td>\n",
       "      <td>0.868516</td>\n",
       "    </tr>\n",
       "    <tr>\n",
       "      <td>1500</td>\n",
       "      <td>0.334500</td>\n",
       "      <td>0.295585</td>\n",
       "      <td>0.875580</td>\n",
       "      <td>0.870931</td>\n",
       "    </tr>\n",
       "    <tr>\n",
       "      <td>2000</td>\n",
       "      <td>0.313400</td>\n",
       "      <td>0.306150</td>\n",
       "      <td>0.873560</td>\n",
       "      <td>0.865615</td>\n",
       "    </tr>\n",
       "    <tr>\n",
       "      <td>2500</td>\n",
       "      <td>0.320200</td>\n",
       "      <td>0.293368</td>\n",
       "      <td>0.879600</td>\n",
       "      <td>0.878526</td>\n",
       "    </tr>\n",
       "    <tr>\n",
       "      <td>3000</td>\n",
       "      <td>0.306900</td>\n",
       "      <td>0.319653</td>\n",
       "      <td>0.881020</td>\n",
       "      <td>0.883529</td>\n",
       "    </tr>\n",
       "    <tr>\n",
       "      <td>3500</td>\n",
       "      <td>0.299200</td>\n",
       "      <td>0.298308</td>\n",
       "      <td>0.880180</td>\n",
       "      <td>0.883875</td>\n",
       "    </tr>\n",
       "    <tr>\n",
       "      <td>4000</td>\n",
       "      <td>0.303700</td>\n",
       "      <td>0.284025</td>\n",
       "      <td>0.887840</td>\n",
       "      <td>0.888977</td>\n",
       "    </tr>\n",
       "    <tr>\n",
       "      <td>4500</td>\n",
       "      <td>0.290400</td>\n",
       "      <td>0.277562</td>\n",
       "      <td>0.884160</td>\n",
       "      <td>0.887822</td>\n",
       "    </tr>\n",
       "    <tr>\n",
       "      <td>5000</td>\n",
       "      <td>0.281200</td>\n",
       "      <td>0.334516</td>\n",
       "      <td>0.889220</td>\n",
       "      <td>0.890566</td>\n",
       "    </tr>\n",
       "    <tr>\n",
       "      <td>5500</td>\n",
       "      <td>0.287800</td>\n",
       "      <td>0.269341</td>\n",
       "      <td>0.894440</td>\n",
       "      <td>0.892202</td>\n",
       "    </tr>\n",
       "    <tr>\n",
       "      <td>6000</td>\n",
       "      <td>0.287400</td>\n",
       "      <td>0.263203</td>\n",
       "      <td>0.889720</td>\n",
       "      <td>0.891908</td>\n",
       "    </tr>\n",
       "    <tr>\n",
       "      <td>6500</td>\n",
       "      <td>0.258500</td>\n",
       "      <td>0.305434</td>\n",
       "      <td>0.885800</td>\n",
       "      <td>0.889756</td>\n",
       "    </tr>\n",
       "    <tr>\n",
       "      <td>7000</td>\n",
       "      <td>0.219300</td>\n",
       "      <td>0.325774</td>\n",
       "      <td>0.888140</td>\n",
       "      <td>0.889591</td>\n",
       "    </tr>\n",
       "    <tr>\n",
       "      <td>7500</td>\n",
       "      <td>0.227900</td>\n",
       "      <td>0.295827</td>\n",
       "      <td>0.889300</td>\n",
       "      <td>0.891630</td>\n",
       "    </tr>\n",
       "    <tr>\n",
       "      <td>8000</td>\n",
       "      <td>0.227500</td>\n",
       "      <td>0.278365</td>\n",
       "      <td>0.896700</td>\n",
       "      <td>0.894262</td>\n",
       "    </tr>\n",
       "    <tr>\n",
       "      <td>8500</td>\n",
       "      <td>0.227200</td>\n",
       "      <td>0.302286</td>\n",
       "      <td>0.894200</td>\n",
       "      <td>0.895809</td>\n",
       "    </tr>\n",
       "    <tr>\n",
       "      <td>9000</td>\n",
       "      <td>0.227900</td>\n",
       "      <td>0.269238</td>\n",
       "      <td>0.895460</td>\n",
       "      <td>0.895227</td>\n",
       "    </tr>\n",
       "    <tr>\n",
       "      <td>9500</td>\n",
       "      <td>0.224200</td>\n",
       "      <td>0.263769</td>\n",
       "      <td>0.895360</td>\n",
       "      <td>0.897323</td>\n",
       "    </tr>\n",
       "    <tr>\n",
       "      <td>10000</td>\n",
       "      <td>0.231400</td>\n",
       "      <td>0.278983</td>\n",
       "      <td>0.897800</td>\n",
       "      <td>0.898381</td>\n",
       "    </tr>\n",
       "    <tr>\n",
       "      <td>10500</td>\n",
       "      <td>0.223300</td>\n",
       "      <td>0.277022</td>\n",
       "      <td>0.897600</td>\n",
       "      <td>0.899185</td>\n",
       "    </tr>\n",
       "    <tr>\n",
       "      <td>11000</td>\n",
       "      <td>0.224100</td>\n",
       "      <td>0.269792</td>\n",
       "      <td>0.899960</td>\n",
       "      <td>0.900687</td>\n",
       "    </tr>\n",
       "    <tr>\n",
       "      <td>11500</td>\n",
       "      <td>0.217100</td>\n",
       "      <td>0.273065</td>\n",
       "      <td>0.896600</td>\n",
       "      <td>0.897999</td>\n",
       "    </tr>\n",
       "    <tr>\n",
       "      <td>12000</td>\n",
       "      <td>0.211900</td>\n",
       "      <td>0.295832</td>\n",
       "      <td>0.900980</td>\n",
       "      <td>0.900123</td>\n",
       "    </tr>\n",
       "    <tr>\n",
       "      <td>12500</td>\n",
       "      <td>0.225400</td>\n",
       "      <td>0.282696</td>\n",
       "      <td>0.897160</td>\n",
       "      <td>0.899188</td>\n",
       "    </tr>\n",
       "    <tr>\n",
       "      <td>13000</td>\n",
       "      <td>0.163800</td>\n",
       "      <td>0.365330</td>\n",
       "      <td>0.899820</td>\n",
       "      <td>0.900261</td>\n",
       "    </tr>\n",
       "    <tr>\n",
       "      <td>13500</td>\n",
       "      <td>0.178700</td>\n",
       "      <td>0.331762</td>\n",
       "      <td>0.898440</td>\n",
       "      <td>0.899138</td>\n",
       "    </tr>\n",
       "    <tr>\n",
       "      <td>14000</td>\n",
       "      <td>0.185700</td>\n",
       "      <td>0.343586</td>\n",
       "      <td>0.897620</td>\n",
       "      <td>0.898099</td>\n",
       "    </tr>\n",
       "    <tr>\n",
       "      <td>14500</td>\n",
       "      <td>0.174300</td>\n",
       "      <td>0.339261</td>\n",
       "      <td>0.897620</td>\n",
       "      <td>0.900092</td>\n",
       "    </tr>\n",
       "    <tr>\n",
       "      <td>15000</td>\n",
       "      <td>0.168100</td>\n",
       "      <td>0.365306</td>\n",
       "      <td>0.900900</td>\n",
       "      <td>0.901934</td>\n",
       "    </tr>\n",
       "    <tr>\n",
       "      <td>15500</td>\n",
       "      <td>0.169600</td>\n",
       "      <td>0.354969</td>\n",
       "      <td>0.900680</td>\n",
       "      <td>0.901433</td>\n",
       "    </tr>\n",
       "    <tr>\n",
       "      <td>16000</td>\n",
       "      <td>0.176500</td>\n",
       "      <td>0.355748</td>\n",
       "      <td>0.900300</td>\n",
       "      <td>0.901062</td>\n",
       "    </tr>\n",
       "    <tr>\n",
       "      <td>16500</td>\n",
       "      <td>0.162700</td>\n",
       "      <td>0.362787</td>\n",
       "      <td>0.899860</td>\n",
       "      <td>0.899605</td>\n",
       "    </tr>\n",
       "    <tr>\n",
       "      <td>17000</td>\n",
       "      <td>0.169600</td>\n",
       "      <td>0.351939</td>\n",
       "      <td>0.899580</td>\n",
       "      <td>0.900580</td>\n",
       "    </tr>\n",
       "    <tr>\n",
       "      <td>17500</td>\n",
       "      <td>0.175100</td>\n",
       "      <td>0.345972</td>\n",
       "      <td>0.900620</td>\n",
       "      <td>0.901695</td>\n",
       "    </tr>\n",
       "    <tr>\n",
       "      <td>18000</td>\n",
       "      <td>0.171200</td>\n",
       "      <td>0.355837</td>\n",
       "      <td>0.899760</td>\n",
       "      <td>0.901195</td>\n",
       "    </tr>\n",
       "    <tr>\n",
       "      <td>18500</td>\n",
       "      <td>0.173800</td>\n",
       "      <td>0.349600</td>\n",
       "      <td>0.900820</td>\n",
       "      <td>0.901304</td>\n",
       "    </tr>\n",
       "  </tbody>\n",
       "</table><p>"
      ],
      "text/plain": [
       "<IPython.core.display.HTML object>"
      ]
     },
     "metadata": {},
     "output_type": "display_data"
    },
    {
     "name": "stderr",
     "output_type": "stream",
     "text": [
      "The following columns in the evaluation set  don't have a corresponding argument in `RobertaForSequenceClassification.forward` and have been ignored: id, document.\n",
      "***** Running Evaluation *****\n",
      "  Num examples = 50000\n",
      "  Batch size = 16\n",
      "Saving model checkpoint to ./transformers/checkpoint-500\n",
      "Configuration saved in ./transformers/checkpoint-500/config.json\n",
      "Model weights saved in ./transformers/checkpoint-500/pytorch_model.bin\n",
      "The following columns in the evaluation set  don't have a corresponding argument in `RobertaForSequenceClassification.forward` and have been ignored: id, document.\n",
      "***** Running Evaluation *****\n",
      "  Num examples = 50000\n",
      "  Batch size = 16\n",
      "Saving model checkpoint to ./transformers/checkpoint-1000\n",
      "Configuration saved in ./transformers/checkpoint-1000/config.json\n",
      "Model weights saved in ./transformers/checkpoint-1000/pytorch_model.bin\n",
      "The following columns in the evaluation set  don't have a corresponding argument in `RobertaForSequenceClassification.forward` and have been ignored: id, document.\n",
      "***** Running Evaluation *****\n",
      "  Num examples = 50000\n",
      "  Batch size = 16\n",
      "Saving model checkpoint to ./transformers/checkpoint-1500\n",
      "Configuration saved in ./transformers/checkpoint-1500/config.json\n",
      "Model weights saved in ./transformers/checkpoint-1500/pytorch_model.bin\n",
      "The following columns in the evaluation set  don't have a corresponding argument in `RobertaForSequenceClassification.forward` and have been ignored: id, document.\n",
      "***** Running Evaluation *****\n",
      "  Num examples = 50000\n",
      "  Batch size = 16\n",
      "Saving model checkpoint to ./transformers/checkpoint-2000\n",
      "Configuration saved in ./transformers/checkpoint-2000/config.json\n",
      "Model weights saved in ./transformers/checkpoint-2000/pytorch_model.bin\n",
      "The following columns in the evaluation set  don't have a corresponding argument in `RobertaForSequenceClassification.forward` and have been ignored: id, document.\n",
      "***** Running Evaluation *****\n",
      "  Num examples = 50000\n",
      "  Batch size = 16\n",
      "Saving model checkpoint to ./transformers/checkpoint-2500\n",
      "Configuration saved in ./transformers/checkpoint-2500/config.json\n",
      "Model weights saved in ./transformers/checkpoint-2500/pytorch_model.bin\n",
      "The following columns in the evaluation set  don't have a corresponding argument in `RobertaForSequenceClassification.forward` and have been ignored: id, document.\n",
      "***** Running Evaluation *****\n",
      "  Num examples = 50000\n",
      "  Batch size = 16\n",
      "Saving model checkpoint to ./transformers/checkpoint-3000\n",
      "Configuration saved in ./transformers/checkpoint-3000/config.json\n",
      "Model weights saved in ./transformers/checkpoint-3000/pytorch_model.bin\n",
      "The following columns in the evaluation set  don't have a corresponding argument in `RobertaForSequenceClassification.forward` and have been ignored: id, document.\n",
      "***** Running Evaluation *****\n",
      "  Num examples = 50000\n",
      "  Batch size = 16\n",
      "Saving model checkpoint to ./transformers/checkpoint-3500\n",
      "Configuration saved in ./transformers/checkpoint-3500/config.json\n",
      "Model weights saved in ./transformers/checkpoint-3500/pytorch_model.bin\n",
      "The following columns in the evaluation set  don't have a corresponding argument in `RobertaForSequenceClassification.forward` and have been ignored: id, document.\n",
      "***** Running Evaluation *****\n",
      "  Num examples = 50000\n",
      "  Batch size = 16\n",
      "Saving model checkpoint to ./transformers/checkpoint-4000\n",
      "Configuration saved in ./transformers/checkpoint-4000/config.json\n",
      "Model weights saved in ./transformers/checkpoint-4000/pytorch_model.bin\n",
      "The following columns in the evaluation set  don't have a corresponding argument in `RobertaForSequenceClassification.forward` and have been ignored: id, document.\n",
      "***** Running Evaluation *****\n",
      "  Num examples = 50000\n",
      "  Batch size = 16\n",
      "Saving model checkpoint to ./transformers/checkpoint-4500\n",
      "Configuration saved in ./transformers/checkpoint-4500/config.json\n",
      "Model weights saved in ./transformers/checkpoint-4500/pytorch_model.bin\n",
      "The following columns in the evaluation set  don't have a corresponding argument in `RobertaForSequenceClassification.forward` and have been ignored: id, document.\n",
      "***** Running Evaluation *****\n",
      "  Num examples = 50000\n",
      "  Batch size = 16\n",
      "Saving model checkpoint to ./transformers/checkpoint-5000\n",
      "Configuration saved in ./transformers/checkpoint-5000/config.json\n",
      "Model weights saved in ./transformers/checkpoint-5000/pytorch_model.bin\n",
      "The following columns in the evaluation set  don't have a corresponding argument in `RobertaForSequenceClassification.forward` and have been ignored: id, document.\n",
      "***** Running Evaluation *****\n",
      "  Num examples = 50000\n",
      "  Batch size = 16\n",
      "Saving model checkpoint to ./transformers/checkpoint-5500\n",
      "Configuration saved in ./transformers/checkpoint-5500/config.json\n",
      "Model weights saved in ./transformers/checkpoint-5500/pytorch_model.bin\n",
      "The following columns in the evaluation set  don't have a corresponding argument in `RobertaForSequenceClassification.forward` and have been ignored: id, document.\n",
      "***** Running Evaluation *****\n",
      "  Num examples = 50000\n",
      "  Batch size = 16\n",
      "Saving model checkpoint to ./transformers/checkpoint-6000\n",
      "Configuration saved in ./transformers/checkpoint-6000/config.json\n",
      "Model weights saved in ./transformers/checkpoint-6000/pytorch_model.bin\n",
      "The following columns in the evaluation set  don't have a corresponding argument in `RobertaForSequenceClassification.forward` and have been ignored: id, document.\n",
      "***** Running Evaluation *****\n",
      "  Num examples = 50000\n",
      "  Batch size = 16\n",
      "Saving model checkpoint to ./transformers/checkpoint-6500\n",
      "Configuration saved in ./transformers/checkpoint-6500/config.json\n",
      "Model weights saved in ./transformers/checkpoint-6500/pytorch_model.bin\n",
      "The following columns in the evaluation set  don't have a corresponding argument in `RobertaForSequenceClassification.forward` and have been ignored: id, document.\n",
      "***** Running Evaluation *****\n",
      "  Num examples = 50000\n",
      "  Batch size = 16\n",
      "Saving model checkpoint to ./transformers/checkpoint-7000\n",
      "Configuration saved in ./transformers/checkpoint-7000/config.json\n",
      "Model weights saved in ./transformers/checkpoint-7000/pytorch_model.bin\n",
      "The following columns in the evaluation set  don't have a corresponding argument in `RobertaForSequenceClassification.forward` and have been ignored: id, document.\n",
      "***** Running Evaluation *****\n",
      "  Num examples = 50000\n",
      "  Batch size = 16\n",
      "Saving model checkpoint to ./transformers/checkpoint-7500\n",
      "Configuration saved in ./transformers/checkpoint-7500/config.json\n",
      "Model weights saved in ./transformers/checkpoint-7500/pytorch_model.bin\n",
      "The following columns in the evaluation set  don't have a corresponding argument in `RobertaForSequenceClassification.forward` and have been ignored: id, document.\n",
      "***** Running Evaluation *****\n",
      "  Num examples = 50000\n",
      "  Batch size = 16\n",
      "Saving model checkpoint to ./transformers/checkpoint-8000\n",
      "Configuration saved in ./transformers/checkpoint-8000/config.json\n",
      "Model weights saved in ./transformers/checkpoint-8000/pytorch_model.bin\n",
      "The following columns in the evaluation set  don't have a corresponding argument in `RobertaForSequenceClassification.forward` and have been ignored: id, document.\n",
      "***** Running Evaluation *****\n",
      "  Num examples = 50000\n",
      "  Batch size = 16\n",
      "Saving model checkpoint to ./transformers/checkpoint-8500\n",
      "Configuration saved in ./transformers/checkpoint-8500/config.json\n",
      "Model weights saved in ./transformers/checkpoint-8500/pytorch_model.bin\n",
      "The following columns in the evaluation set  don't have a corresponding argument in `RobertaForSequenceClassification.forward` and have been ignored: id, document.\n",
      "***** Running Evaluation *****\n",
      "  Num examples = 50000\n",
      "  Batch size = 16\n",
      "Saving model checkpoint to ./transformers/checkpoint-9000\n",
      "Configuration saved in ./transformers/checkpoint-9000/config.json\n",
      "Model weights saved in ./transformers/checkpoint-9000/pytorch_model.bin\n",
      "The following columns in the evaluation set  don't have a corresponding argument in `RobertaForSequenceClassification.forward` and have been ignored: id, document.\n",
      "***** Running Evaluation *****\n",
      "  Num examples = 50000\n",
      "  Batch size = 16\n",
      "Saving model checkpoint to ./transformers/checkpoint-9500\n",
      "Configuration saved in ./transformers/checkpoint-9500/config.json\n",
      "Model weights saved in ./transformers/checkpoint-9500/pytorch_model.bin\n"
     ]
    },
    {
     "name": "stderr",
     "output_type": "stream",
     "text": [
      "The following columns in the evaluation set  don't have a corresponding argument in `RobertaForSequenceClassification.forward` and have been ignored: id, document.\n",
      "***** Running Evaluation *****\n",
      "  Num examples = 50000\n",
      "  Batch size = 16\n",
      "Saving model checkpoint to ./transformers/checkpoint-10000\n",
      "Configuration saved in ./transformers/checkpoint-10000/config.json\n",
      "Model weights saved in ./transformers/checkpoint-10000/pytorch_model.bin\n",
      "The following columns in the evaluation set  don't have a corresponding argument in `RobertaForSequenceClassification.forward` and have been ignored: id, document.\n",
      "***** Running Evaluation *****\n",
      "  Num examples = 50000\n",
      "  Batch size = 16\n",
      "Saving model checkpoint to ./transformers/checkpoint-10500\n",
      "Configuration saved in ./transformers/checkpoint-10500/config.json\n",
      "Model weights saved in ./transformers/checkpoint-10500/pytorch_model.bin\n",
      "The following columns in the evaluation set  don't have a corresponding argument in `RobertaForSequenceClassification.forward` and have been ignored: id, document.\n",
      "***** Running Evaluation *****\n",
      "  Num examples = 50000\n",
      "  Batch size = 16\n",
      "Saving model checkpoint to ./transformers/checkpoint-11000\n",
      "Configuration saved in ./transformers/checkpoint-11000/config.json\n",
      "Model weights saved in ./transformers/checkpoint-11000/pytorch_model.bin\n",
      "The following columns in the evaluation set  don't have a corresponding argument in `RobertaForSequenceClassification.forward` and have been ignored: id, document.\n",
      "***** Running Evaluation *****\n",
      "  Num examples = 50000\n",
      "  Batch size = 16\n",
      "Saving model checkpoint to ./transformers/checkpoint-11500\n",
      "Configuration saved in ./transformers/checkpoint-11500/config.json\n",
      "Model weights saved in ./transformers/checkpoint-11500/pytorch_model.bin\n",
      "The following columns in the evaluation set  don't have a corresponding argument in `RobertaForSequenceClassification.forward` and have been ignored: id, document.\n",
      "***** Running Evaluation *****\n",
      "  Num examples = 50000\n",
      "  Batch size = 16\n",
      "Saving model checkpoint to ./transformers/checkpoint-12000\n",
      "Configuration saved in ./transformers/checkpoint-12000/config.json\n",
      "Model weights saved in ./transformers/checkpoint-12000/pytorch_model.bin\n",
      "The following columns in the evaluation set  don't have a corresponding argument in `RobertaForSequenceClassification.forward` and have been ignored: id, document.\n",
      "***** Running Evaluation *****\n",
      "  Num examples = 50000\n",
      "  Batch size = 16\n",
      "Saving model checkpoint to ./transformers/checkpoint-12500\n",
      "Configuration saved in ./transformers/checkpoint-12500/config.json\n",
      "Model weights saved in ./transformers/checkpoint-12500/pytorch_model.bin\n",
      "The following columns in the evaluation set  don't have a corresponding argument in `RobertaForSequenceClassification.forward` and have been ignored: id, document.\n",
      "***** Running Evaluation *****\n",
      "  Num examples = 50000\n",
      "  Batch size = 16\n",
      "Saving model checkpoint to ./transformers/checkpoint-13000\n",
      "Configuration saved in ./transformers/checkpoint-13000/config.json\n",
      "Model weights saved in ./transformers/checkpoint-13000/pytorch_model.bin\n",
      "The following columns in the evaluation set  don't have a corresponding argument in `RobertaForSequenceClassification.forward` and have been ignored: id, document.\n",
      "***** Running Evaluation *****\n",
      "  Num examples = 50000\n",
      "  Batch size = 16\n",
      "Saving model checkpoint to ./transformers/checkpoint-13500\n",
      "Configuration saved in ./transformers/checkpoint-13500/config.json\n",
      "Model weights saved in ./transformers/checkpoint-13500/pytorch_model.bin\n",
      "The following columns in the evaluation set  don't have a corresponding argument in `RobertaForSequenceClassification.forward` and have been ignored: id, document.\n",
      "***** Running Evaluation *****\n",
      "  Num examples = 50000\n",
      "  Batch size = 16\n",
      "Saving model checkpoint to ./transformers/checkpoint-14000\n",
      "Configuration saved in ./transformers/checkpoint-14000/config.json\n",
      "Model weights saved in ./transformers/checkpoint-14000/pytorch_model.bin\n",
      "The following columns in the evaluation set  don't have a corresponding argument in `RobertaForSequenceClassification.forward` and have been ignored: id, document.\n",
      "***** Running Evaluation *****\n",
      "  Num examples = 50000\n",
      "  Batch size = 16\n",
      "Saving model checkpoint to ./transformers/checkpoint-14500\n",
      "Configuration saved in ./transformers/checkpoint-14500/config.json\n",
      "Model weights saved in ./transformers/checkpoint-14500/pytorch_model.bin\n",
      "The following columns in the evaluation set  don't have a corresponding argument in `RobertaForSequenceClassification.forward` and have been ignored: id, document.\n",
      "***** Running Evaluation *****\n",
      "  Num examples = 50000\n",
      "  Batch size = 16\n",
      "Saving model checkpoint to ./transformers/checkpoint-15000\n",
      "Configuration saved in ./transformers/checkpoint-15000/config.json\n",
      "Model weights saved in ./transformers/checkpoint-15000/pytorch_model.bin\n",
      "The following columns in the evaluation set  don't have a corresponding argument in `RobertaForSequenceClassification.forward` and have been ignored: id, document.\n",
      "***** Running Evaluation *****\n",
      "  Num examples = 50000\n",
      "  Batch size = 16\n",
      "Saving model checkpoint to ./transformers/checkpoint-15500\n",
      "Configuration saved in ./transformers/checkpoint-15500/config.json\n",
      "Model weights saved in ./transformers/checkpoint-15500/pytorch_model.bin\n",
      "The following columns in the evaluation set  don't have a corresponding argument in `RobertaForSequenceClassification.forward` and have been ignored: id, document.\n",
      "***** Running Evaluation *****\n",
      "  Num examples = 50000\n",
      "  Batch size = 16\n",
      "Saving model checkpoint to ./transformers/checkpoint-16000\n",
      "Configuration saved in ./transformers/checkpoint-16000/config.json\n",
      "Model weights saved in ./transformers/checkpoint-16000/pytorch_model.bin\n",
      "The following columns in the evaluation set  don't have a corresponding argument in `RobertaForSequenceClassification.forward` and have been ignored: id, document.\n",
      "***** Running Evaluation *****\n",
      "  Num examples = 50000\n",
      "  Batch size = 16\n",
      "Saving model checkpoint to ./transformers/checkpoint-16500\n",
      "Configuration saved in ./transformers/checkpoint-16500/config.json\n",
      "Model weights saved in ./transformers/checkpoint-16500/pytorch_model.bin\n",
      "The following columns in the evaluation set  don't have a corresponding argument in `RobertaForSequenceClassification.forward` and have been ignored: id, document.\n",
      "***** Running Evaluation *****\n",
      "  Num examples = 50000\n",
      "  Batch size = 16\n",
      "Saving model checkpoint to ./transformers/checkpoint-17000\n",
      "Configuration saved in ./transformers/checkpoint-17000/config.json\n",
      "Model weights saved in ./transformers/checkpoint-17000/pytorch_model.bin\n",
      "The following columns in the evaluation set  don't have a corresponding argument in `RobertaForSequenceClassification.forward` and have been ignored: id, document.\n",
      "***** Running Evaluation *****\n",
      "  Num examples = 50000\n",
      "  Batch size = 16\n",
      "Saving model checkpoint to ./transformers/checkpoint-17500\n",
      "Configuration saved in ./transformers/checkpoint-17500/config.json\n",
      "Model weights saved in ./transformers/checkpoint-17500/pytorch_model.bin\n",
      "The following columns in the evaluation set  don't have a corresponding argument in `RobertaForSequenceClassification.forward` and have been ignored: id, document.\n",
      "***** Running Evaluation *****\n",
      "  Num examples = 50000\n",
      "  Batch size = 16\n",
      "Saving model checkpoint to ./transformers/checkpoint-18000\n",
      "Configuration saved in ./transformers/checkpoint-18000/config.json\n",
      "Model weights saved in ./transformers/checkpoint-18000/pytorch_model.bin\n",
      "The following columns in the evaluation set  don't have a corresponding argument in `RobertaForSequenceClassification.forward` and have been ignored: id, document.\n",
      "***** Running Evaluation *****\n",
      "  Num examples = 50000\n",
      "  Batch size = 16\n",
      "Saving model checkpoint to ./transformers/checkpoint-18500\n",
      "Configuration saved in ./transformers/checkpoint-18500/config.json\n",
      "Model weights saved in ./transformers/checkpoint-18500/pytorch_model.bin\n",
      "\n",
      "\n",
      "Training completed. Do not forget to share your model on huggingface.co/models =)\n",
      "\n",
      "\n",
      "Loading best model from ./transformers/checkpoint-12000 (score: 0.90098).\n"
     ]
    }
   ],
   "source": [
    "# 하이퍼파라미터 base   data_collator + wd\n",
    "training_arguments = TrainingArguments(\n",
    "    output_dir,                                         # output이 저장될 경로\n",
    "    evaluation_strategy=\"steps\",           #evaluation하는 빈도\n",
    "    eval_steps = 500,\n",
    "    learning_rate = 2e-5,                         #learning_rate\n",
    "    per_device_train_batch_size = 16,   # 각 device 당 batch size\n",
    "    per_device_eval_batch_size = 16,    # evaluation 시에 batch size\n",
    "    num_train_epochs = 3,                     # train 시킬 총 epochs\n",
    "    weight_decay = 0.02,                        # weight decay\n",
    "    load_best_model_at_end = True,\n",
    "    metric_for_best_model = 'accuracy',\n",
    "    group_by_length=True,\n",
    "    logging_steps=500\n",
    ")\n",
    "\n",
    "# DataCollatorWithPadding을 사용하여 bucketing 수행\n",
    "data_collator = DataCollatorWithPadding(tokenizer=tokenizer)    \n",
    "\n",
    "# 학습 실행\n",
    "early_stopping_callback = EarlyStoppingCallback(early_stopping_patience=2)\n",
    "\n",
    "trainer = Trainer(\n",
    "    model=model,\n",
    "    args=training_arguments,\n",
    "    train_dataset=hf_train_dataset,\n",
    "    eval_dataset=hf_val_dataset,\n",
    "    data_collator=data_collator,\n",
    "    compute_metrics=compute_metrics,\n",
    "#    callbacks=[early_stopping_callback]\n",
    ")\n",
    "\n",
    "trainer.train()        \n",
    "history_colwb_total = pd.DataFrame(trainer.state.log_history)"
   ]
  },
  {
   "cell_type": "code",
   "execution_count": 22,
   "id": "f0205871",
   "metadata": {
    "scrolled": true
   },
   "outputs": [
    {
     "name": "stderr",
     "output_type": "stream",
     "text": [
      "The following columns in the evaluation set  don't have a corresponding argument in `RobertaForSequenceClassification.forward` and have been ignored: id, document.\n",
      "***** Running Evaluation *****\n",
      "  Num examples = 50000\n",
      "  Batch size = 16\n"
     ]
    },
    {
     "data": {
      "text/html": [
       "\n",
       "    <div>\n",
       "      \n",
       "      <progress value='3125' max='3125' style='width:300px; height:20px; vertical-align: middle;'></progress>\n",
       "      [3125/3125 13:15]\n",
       "    </div>\n",
       "    "
      ],
      "text/plain": [
       "<IPython.core.display.HTML object>"
      ]
     },
     "metadata": {},
     "output_type": "display_data"
    },
    {
     "data": {
      "text/plain": [
       "{'eval_loss': 0.3078936040401459,\n",
       " 'eval_accuracy': 0.89594,\n",
       " 'eval_f1': 0.8955619342018106,\n",
       " 'eval_runtime': 796.1446,\n",
       " 'eval_samples_per_second': 62.803,\n",
       " 'eval_steps_per_second': 3.925,\n",
       " 'epoch': 3.0}"
      ]
     },
     "execution_count": 22,
     "metadata": {},
     "output_type": "execute_result"
    }
   ],
   "source": [
    "trainer.evaluate(hf_test_dataset)"
   ]
  },
  {
   "cell_type": "markdown",
   "id": "f8230094",
   "metadata": {},
   "source": [
    "🧐 Test Dataset 5만건을 대상으로 실행했을 때 Eval `Accuracy는 0.89594` 를 기록했다. "
   ]
  },
  {
   "cell_type": "code",
   "execution_count": 21,
   "id": "f8146ee3",
   "metadata": {},
   "outputs": [],
   "source": [
    "history_colwb_total.to_csv('history_colwb_total.csv')"
   ]
  },
  {
   "cell_type": "code",
   "execution_count": 31,
   "id": "bdff254c",
   "metadata": {},
   "outputs": [],
   "source": [
    "        \n",
    "total_base = pd.read_csv('history_colwb_total.csv')\n",
    "total_df = total_base[['step','loss','eval_loss', 'eval_accuracy','eval_f1']].groupby('step').sum()"
   ]
  },
  {
   "cell_type": "code",
   "execution_count": 32,
   "id": "337a1b9f",
   "metadata": {},
   "outputs": [
    {
     "data": {
      "text/html": [
       "<div>\n",
       "<style scoped>\n",
       "    .dataframe tbody tr th:only-of-type {\n",
       "        vertical-align: middle;\n",
       "    }\n",
       "\n",
       "    .dataframe tbody tr th {\n",
       "        vertical-align: top;\n",
       "    }\n",
       "\n",
       "    .dataframe thead th {\n",
       "        text-align: right;\n",
       "    }\n",
       "</style>\n",
       "<table border=\"1\" class=\"dataframe\">\n",
       "  <thead>\n",
       "    <tr style=\"text-align: right;\">\n",
       "      <th></th>\n",
       "      <th>step</th>\n",
       "      <th>loss</th>\n",
       "      <th>eval_loss</th>\n",
       "      <th>eval_accuracy</th>\n",
       "      <th>eval_f1</th>\n",
       "    </tr>\n",
       "  </thead>\n",
       "  <tbody>\n",
       "    <tr>\n",
       "      <th>0</th>\n",
       "      <td>500</td>\n",
       "      <td>0.4167</td>\n",
       "      <td>0.365836</td>\n",
       "      <td>0.85142</td>\n",
       "      <td>0.849752</td>\n",
       "    </tr>\n",
       "    <tr>\n",
       "      <th>1</th>\n",
       "      <td>1000</td>\n",
       "      <td>0.3573</td>\n",
       "      <td>0.343098</td>\n",
       "      <td>0.86220</td>\n",
       "      <td>0.868516</td>\n",
       "    </tr>\n",
       "    <tr>\n",
       "      <th>2</th>\n",
       "      <td>1500</td>\n",
       "      <td>0.3345</td>\n",
       "      <td>0.295585</td>\n",
       "      <td>0.87558</td>\n",
       "      <td>0.870931</td>\n",
       "    </tr>\n",
       "    <tr>\n",
       "      <th>3</th>\n",
       "      <td>2000</td>\n",
       "      <td>0.3134</td>\n",
       "      <td>0.306150</td>\n",
       "      <td>0.87356</td>\n",
       "      <td>0.865615</td>\n",
       "    </tr>\n",
       "    <tr>\n",
       "      <th>4</th>\n",
       "      <td>2500</td>\n",
       "      <td>0.3202</td>\n",
       "      <td>0.293368</td>\n",
       "      <td>0.87960</td>\n",
       "      <td>0.878526</td>\n",
       "    </tr>\n",
       "    <tr>\n",
       "      <th>5</th>\n",
       "      <td>3000</td>\n",
       "      <td>0.3069</td>\n",
       "      <td>0.319653</td>\n",
       "      <td>0.88102</td>\n",
       "      <td>0.883529</td>\n",
       "    </tr>\n",
       "    <tr>\n",
       "      <th>6</th>\n",
       "      <td>3500</td>\n",
       "      <td>0.2992</td>\n",
       "      <td>0.298308</td>\n",
       "      <td>0.88018</td>\n",
       "      <td>0.883875</td>\n",
       "    </tr>\n",
       "    <tr>\n",
       "      <th>7</th>\n",
       "      <td>4000</td>\n",
       "      <td>0.3037</td>\n",
       "      <td>0.284025</td>\n",
       "      <td>0.88784</td>\n",
       "      <td>0.888977</td>\n",
       "    </tr>\n",
       "    <tr>\n",
       "      <th>8</th>\n",
       "      <td>4500</td>\n",
       "      <td>0.2904</td>\n",
       "      <td>0.277562</td>\n",
       "      <td>0.88416</td>\n",
       "      <td>0.887822</td>\n",
       "    </tr>\n",
       "    <tr>\n",
       "      <th>9</th>\n",
       "      <td>5000</td>\n",
       "      <td>0.2812</td>\n",
       "      <td>0.334516</td>\n",
       "      <td>0.88922</td>\n",
       "      <td>0.890566</td>\n",
       "    </tr>\n",
       "    <tr>\n",
       "      <th>10</th>\n",
       "      <td>5500</td>\n",
       "      <td>0.2878</td>\n",
       "      <td>0.269341</td>\n",
       "      <td>0.89444</td>\n",
       "      <td>0.892202</td>\n",
       "    </tr>\n",
       "    <tr>\n",
       "      <th>11</th>\n",
       "      <td>6000</td>\n",
       "      <td>0.2874</td>\n",
       "      <td>0.263203</td>\n",
       "      <td>0.88972</td>\n",
       "      <td>0.891908</td>\n",
       "    </tr>\n",
       "    <tr>\n",
       "      <th>12</th>\n",
       "      <td>6500</td>\n",
       "      <td>0.2585</td>\n",
       "      <td>0.305434</td>\n",
       "      <td>0.88580</td>\n",
       "      <td>0.889756</td>\n",
       "    </tr>\n",
       "    <tr>\n",
       "      <th>13</th>\n",
       "      <td>7000</td>\n",
       "      <td>0.2193</td>\n",
       "      <td>0.325774</td>\n",
       "      <td>0.88814</td>\n",
       "      <td>0.889591</td>\n",
       "    </tr>\n",
       "    <tr>\n",
       "      <th>14</th>\n",
       "      <td>7500</td>\n",
       "      <td>0.2279</td>\n",
       "      <td>0.295827</td>\n",
       "      <td>0.88930</td>\n",
       "      <td>0.891630</td>\n",
       "    </tr>\n",
       "    <tr>\n",
       "      <th>15</th>\n",
       "      <td>8000</td>\n",
       "      <td>0.2275</td>\n",
       "      <td>0.278365</td>\n",
       "      <td>0.89670</td>\n",
       "      <td>0.894262</td>\n",
       "    </tr>\n",
       "    <tr>\n",
       "      <th>16</th>\n",
       "      <td>8500</td>\n",
       "      <td>0.2272</td>\n",
       "      <td>0.302286</td>\n",
       "      <td>0.89420</td>\n",
       "      <td>0.895809</td>\n",
       "    </tr>\n",
       "    <tr>\n",
       "      <th>17</th>\n",
       "      <td>9000</td>\n",
       "      <td>0.2279</td>\n",
       "      <td>0.269238</td>\n",
       "      <td>0.89546</td>\n",
       "      <td>0.895227</td>\n",
       "    </tr>\n",
       "    <tr>\n",
       "      <th>18</th>\n",
       "      <td>9500</td>\n",
       "      <td>0.2242</td>\n",
       "      <td>0.263769</td>\n",
       "      <td>0.89536</td>\n",
       "      <td>0.897323</td>\n",
       "    </tr>\n",
       "    <tr>\n",
       "      <th>19</th>\n",
       "      <td>10000</td>\n",
       "      <td>0.2314</td>\n",
       "      <td>0.278983</td>\n",
       "      <td>0.89780</td>\n",
       "      <td>0.898381</td>\n",
       "    </tr>\n",
       "    <tr>\n",
       "      <th>20</th>\n",
       "      <td>10500</td>\n",
       "      <td>0.2233</td>\n",
       "      <td>0.277022</td>\n",
       "      <td>0.89760</td>\n",
       "      <td>0.899185</td>\n",
       "    </tr>\n",
       "    <tr>\n",
       "      <th>21</th>\n",
       "      <td>11000</td>\n",
       "      <td>0.2241</td>\n",
       "      <td>0.269792</td>\n",
       "      <td>0.89996</td>\n",
       "      <td>0.900687</td>\n",
       "    </tr>\n",
       "    <tr>\n",
       "      <th>22</th>\n",
       "      <td>11500</td>\n",
       "      <td>0.2171</td>\n",
       "      <td>0.273065</td>\n",
       "      <td>0.89660</td>\n",
       "      <td>0.897999</td>\n",
       "    </tr>\n",
       "    <tr>\n",
       "      <th>23</th>\n",
       "      <td>12000</td>\n",
       "      <td>0.2119</td>\n",
       "      <td>0.295832</td>\n",
       "      <td>0.90098</td>\n",
       "      <td>0.900123</td>\n",
       "    </tr>\n",
       "    <tr>\n",
       "      <th>24</th>\n",
       "      <td>12500</td>\n",
       "      <td>0.2254</td>\n",
       "      <td>0.282696</td>\n",
       "      <td>0.89716</td>\n",
       "      <td>0.899188</td>\n",
       "    </tr>\n",
       "    <tr>\n",
       "      <th>25</th>\n",
       "      <td>13000</td>\n",
       "      <td>0.1638</td>\n",
       "      <td>0.365330</td>\n",
       "      <td>0.89982</td>\n",
       "      <td>0.900261</td>\n",
       "    </tr>\n",
       "    <tr>\n",
       "      <th>26</th>\n",
       "      <td>13500</td>\n",
       "      <td>0.1787</td>\n",
       "      <td>0.331762</td>\n",
       "      <td>0.89844</td>\n",
       "      <td>0.899138</td>\n",
       "    </tr>\n",
       "    <tr>\n",
       "      <th>27</th>\n",
       "      <td>14000</td>\n",
       "      <td>0.1857</td>\n",
       "      <td>0.343586</td>\n",
       "      <td>0.89762</td>\n",
       "      <td>0.898099</td>\n",
       "    </tr>\n",
       "    <tr>\n",
       "      <th>28</th>\n",
       "      <td>14500</td>\n",
       "      <td>0.1743</td>\n",
       "      <td>0.339261</td>\n",
       "      <td>0.89762</td>\n",
       "      <td>0.900092</td>\n",
       "    </tr>\n",
       "    <tr>\n",
       "      <th>29</th>\n",
       "      <td>15000</td>\n",
       "      <td>0.1681</td>\n",
       "      <td>0.365306</td>\n",
       "      <td>0.90090</td>\n",
       "      <td>0.901934</td>\n",
       "    </tr>\n",
       "    <tr>\n",
       "      <th>30</th>\n",
       "      <td>15500</td>\n",
       "      <td>0.1696</td>\n",
       "      <td>0.354969</td>\n",
       "      <td>0.90068</td>\n",
       "      <td>0.901433</td>\n",
       "    </tr>\n",
       "    <tr>\n",
       "      <th>31</th>\n",
       "      <td>16000</td>\n",
       "      <td>0.1765</td>\n",
       "      <td>0.355748</td>\n",
       "      <td>0.90030</td>\n",
       "      <td>0.901062</td>\n",
       "    </tr>\n",
       "    <tr>\n",
       "      <th>32</th>\n",
       "      <td>16500</td>\n",
       "      <td>0.1627</td>\n",
       "      <td>0.362787</td>\n",
       "      <td>0.89986</td>\n",
       "      <td>0.899605</td>\n",
       "    </tr>\n",
       "    <tr>\n",
       "      <th>33</th>\n",
       "      <td>17000</td>\n",
       "      <td>0.1696</td>\n",
       "      <td>0.351939</td>\n",
       "      <td>0.89958</td>\n",
       "      <td>0.900580</td>\n",
       "    </tr>\n",
       "    <tr>\n",
       "      <th>34</th>\n",
       "      <td>17500</td>\n",
       "      <td>0.1751</td>\n",
       "      <td>0.345972</td>\n",
       "      <td>0.90062</td>\n",
       "      <td>0.901695</td>\n",
       "    </tr>\n",
       "    <tr>\n",
       "      <th>35</th>\n",
       "      <td>18000</td>\n",
       "      <td>0.1712</td>\n",
       "      <td>0.355837</td>\n",
       "      <td>0.89976</td>\n",
       "      <td>0.901195</td>\n",
       "    </tr>\n",
       "    <tr>\n",
       "      <th>36</th>\n",
       "      <td>18500</td>\n",
       "      <td>0.1738</td>\n",
       "      <td>0.349600</td>\n",
       "      <td>0.90082</td>\n",
       "      <td>0.901304</td>\n",
       "    </tr>\n",
       "    <tr>\n",
       "      <th>37</th>\n",
       "      <td>18750</td>\n",
       "      <td>0.0000</td>\n",
       "      <td>0.000000</td>\n",
       "      <td>0.00000</td>\n",
       "      <td>0.000000</td>\n",
       "    </tr>\n",
       "  </tbody>\n",
       "</table>\n",
       "</div>"
      ],
      "text/plain": [
       "     step    loss  eval_loss  eval_accuracy   eval_f1\n",
       "0     500  0.4167   0.365836        0.85142  0.849752\n",
       "1    1000  0.3573   0.343098        0.86220  0.868516\n",
       "2    1500  0.3345   0.295585        0.87558  0.870931\n",
       "3    2000  0.3134   0.306150        0.87356  0.865615\n",
       "4    2500  0.3202   0.293368        0.87960  0.878526\n",
       "5    3000  0.3069   0.319653        0.88102  0.883529\n",
       "6    3500  0.2992   0.298308        0.88018  0.883875\n",
       "7    4000  0.3037   0.284025        0.88784  0.888977\n",
       "8    4500  0.2904   0.277562        0.88416  0.887822\n",
       "9    5000  0.2812   0.334516        0.88922  0.890566\n",
       "10   5500  0.2878   0.269341        0.89444  0.892202\n",
       "11   6000  0.2874   0.263203        0.88972  0.891908\n",
       "12   6500  0.2585   0.305434        0.88580  0.889756\n",
       "13   7000  0.2193   0.325774        0.88814  0.889591\n",
       "14   7500  0.2279   0.295827        0.88930  0.891630\n",
       "15   8000  0.2275   0.278365        0.89670  0.894262\n",
       "16   8500  0.2272   0.302286        0.89420  0.895809\n",
       "17   9000  0.2279   0.269238        0.89546  0.895227\n",
       "18   9500  0.2242   0.263769        0.89536  0.897323\n",
       "19  10000  0.2314   0.278983        0.89780  0.898381\n",
       "20  10500  0.2233   0.277022        0.89760  0.899185\n",
       "21  11000  0.2241   0.269792        0.89996  0.900687\n",
       "22  11500  0.2171   0.273065        0.89660  0.897999\n",
       "23  12000  0.2119   0.295832        0.90098  0.900123\n",
       "24  12500  0.2254   0.282696        0.89716  0.899188\n",
       "25  13000  0.1638   0.365330        0.89982  0.900261\n",
       "26  13500  0.1787   0.331762        0.89844  0.899138\n",
       "27  14000  0.1857   0.343586        0.89762  0.898099\n",
       "28  14500  0.1743   0.339261        0.89762  0.900092\n",
       "29  15000  0.1681   0.365306        0.90090  0.901934\n",
       "30  15500  0.1696   0.354969        0.90068  0.901433\n",
       "31  16000  0.1765   0.355748        0.90030  0.901062\n",
       "32  16500  0.1627   0.362787        0.89986  0.899605\n",
       "33  17000  0.1696   0.351939        0.89958  0.900580\n",
       "34  17500  0.1751   0.345972        0.90062  0.901695\n",
       "35  18000  0.1712   0.355837        0.89976  0.901195\n",
       "36  18500  0.1738   0.349600        0.90082  0.901304\n",
       "37  18750  0.0000   0.000000        0.00000  0.000000"
      ]
     },
     "execution_count": 32,
     "metadata": {},
     "output_type": "execute_result"
    }
   ],
   "source": [
    "total_df = total_df.reset_index()\n",
    "total_df"
   ]
  },
  {
   "cell_type": "code",
   "execution_count": 33,
   "id": "6aa90e3b",
   "metadata": {},
   "outputs": [],
   "source": [
    "total_df = total_df[total_df['step'] != 18750] # 마지막 log기록을 못한 값 제거"
   ]
  },
  {
   "cell_type": "code",
   "execution_count": 34,
   "id": "44581785",
   "metadata": {},
   "outputs": [
    {
     "data": {
      "image/png": "[encoded data removed]",
      "text/plain": [
       "<Figure size 864x576 with 1 Axes>"
      ]
     },
     "metadata": {
      "needs_background": "light"
     },
     "output_type": "display_data"
    }
   ],
   "source": [
    "plt.figure(figsize=(12, 8))\n",
    "sns.lineplot(data=total_df['eval_accuracy'])\n",
    "plt.title('Accuracy')\n",
    "plt.xlabel('Step')\n",
    "plt.ylabel('Accuracy')\n",
    "# 0.9를 넘는 마지막 값을 주석으로 표시\n",
    "threshold = 0.9\n",
    "last_index = total_df[total_df['eval_accuracy'] > threshold].index[-1]\n",
    "last_acc = total_df.loc[last_index, 'eval_accuracy']\n",
    "plt.annotate(f'{last_acc:.2f}', (last_index, last_acc), textcoords='offset points', xytext=(0,10), ha='center')\n",
    "\n",
    "plt.show()"
   ]
  },
  {
   "cell_type": "markdown",
   "id": "8935bd31",
   "metadata": {},
   "source": [
    "🧐 Train 중에 데이타를 보면 0.9이상을 기록한 경우가 몇몇 있었지만 0.91까지 올라가지는 못했다. \n",
    "Test dataset으로 평가했을 때는 다소 떨어진 0.98을 기록했다. "
   ]
  },
  {
   "cell_type": "markdown",
   "id": "f14587fa",
   "metadata": {},
   "source": [
    "# 회고"
   ]
  },
  {
   "cell_type": "markdown",
   "id": "2186fe0c",
   "metadata": {},
   "source": [
    "- 훈련시간이 정말 많이 걸린 프로젝트였다. 데이타 10만건이상으로 한번 Train하는데 10시간~12시간이 소요되는 상황에서 Finetunig을 진행해서 최적의 모델을 찾아야 했다. 그렇다면 모든 데이타를 모두 돌린다는 것은 시간상 불가능하고 다른 방법을 찾아야 했다. \n",
    "- 일단 적은 데이타 셋수를 줄여서 하이퍼파라미터를 조정하고, bucketing이라는 새로운 내용을 적용해 보는 것을 첫번째 목표로 했다. \n",
    "- 1만건( 전체 데이타의 1/10)을 대상으로 learning rate를 조정하고, weight dacay를 적용, data collator 적용 해서 각자 비교해 보았다. \n",
    "- 전체적으로 확연한 성능차이가 느껴지지는 않지만, 그래프 추세상 상승으로 마감하고, 전체적인 accuracy와 f1-score가 그래도 나은 모델 data collator와 weight dacay를 같이 적용한 모델을 채택했다. \n",
    "- 전체 10만건의 train데이타, 5만건 val data, 5만건 test데이타로 진행했고, 장장 11시간에 기다림 끝에 Accuracy 90%를 확인했다. \n",
    "- 전체 데이타에 대한 Base라인을 돌려보고 성능 튜닝과 비교해 보고 싶었지만 아쉽게도 제출시간에 맞추지 못할 듯 해서 그것은 못했다. \n",
    "\n",
    "- 만만치 않은 허들이 있는 프로제트였다. 사용해 보고 싶은 hugging face를 드디어 살펴볼 수 있어서 재미있었고, \n",
    "한번 훈련하는데도 장시간이 소요되는 인고가 필요하다는 깊은 인상을 남긴 프로젝트였다.    \n",
    "- 트레이닝 결과 history 파일은 https://github.com/billygogo/Aiffel_GD_NLP/blob/main/data/GN-8history.zip 에 올려두었습니다.\n",
    "<br>\n",
    "\n",
    "- 이로서 Aiffel의 마지막 ex프로젝트를 마쳤다. \n",
    "- 지나온 exploration 돌아보았다. \n",
    "- ex를 처음 대했을 때 하나같이 막막함으로 시작했다. \n",
    "- 도대체 내가 이걸 어떻게 해낼 수 있을까. 과연 시간내에 제출을 할 수 있을까. \n",
    "- 그러면서 주섬주섬 Node에서 배웠던 것을 복습하고, 나도 모르게 내 주머니속에 있었던 개념과 기술set들을 꺼내며, 최근 사귄 절친 chatGPT와 이야기 나누며 한발한발 나갔던 시간들이었다. \n",
    "- 마침내 ex의 목표를 어느정도 달성했으면 더 찾아보고자 했다. 더 탐색하고, 남들과 다른 내가 볼 수 있는 것들이 무엇인지 찾으려 했다. \n",
    "- 재미있었고, 좋은 내용을 그루들과 함께 나눌 수 있어서 기뻤다. \n",
    "- 그리고 무엇보다. 내가 이런 걸 할 수 있다는 걸 볼 수 있어서 더 앞으로 나갈 수 있게 되어서 내가 많이 자랑스럽다.🚩\n",
    "<br>\n",
    "- 모든 날이 좋았다. ex가 어려운 날도, ex가 낯선 날도...   \n",
    "- 좋은 컨텐츠와 좋은 퍼실님들과 신나게 여행했던 시간을 기록한다. 😉😂   \n",
    "- 진환 퍼실님😉, 무성 퍼실님😁 그리고 강산 퍼실님😉 마음 깊이 감사를 보냅니다.    \n",
    "- 2023년 6월 27일 마지막 ex를 마치며..   \n"
   ]
  }
 ],
 "metadata": {
  "kernelspec": {
   "display_name": "Python 3 (ipykernel)",
   "language": "python",
   "name": "python3"
  },
  "language_info": {
   "codemirror_mode": {
    "name": "ipython",
    "version": 3
   },
   "file_extension": ".py",
   "mimetype": "text/x-python",
   "name": "python",
   "nbconvert_exporter": "python",
   "pygments_lexer": "ipython3",
   "version": "3.9.7"
  }
 },
 "nbformat": 4,
 "nbformat_minor": 5
}
